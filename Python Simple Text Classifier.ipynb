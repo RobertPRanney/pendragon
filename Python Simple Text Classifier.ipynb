{
 "cells": [
  {
   "cell_type": "markdown",
   "metadata": {},
   "source": [
    "# Python Simple Text Classification\n",
    "***Note - There is a lot of formatting stuff going on in some of the markdown cells. Alot of them do not render and will not display at all if you read this on github. Instead pull down the repo and open it as a jupyter notebook ***\n",
    "\n",
    "This tutorial is meant to help get started on a text classification problem using python. It is recommended to retype out all of the code in a sepearte notebook to try and understan each section as it goes. Individual sections can be accessed from links at the top. Links to additional reading on different conecpts presented here can be found in the additional resources section at the end of the notebook. "
   ]
  },
  {
   "cell_type": "markdown",
   "metadata": {},
   "source": [
    "### Goal\n",
    "Given a set of business descriptions can we create a model to identify whehther it is construction business or a non construction business"
   ]
  },
  {
   "cell_type": "markdown",
   "metadata": {},
   "source": [
    "### Areas Covered\n",
    " - [Reading in Data](#data_reading)\n",
    " - [Exploring the Data](#data_explore)\n",
    " - [Understanding How to Transform Text Data](#how_to_data_transform)\n",
    " - [Transforming Data](#data_transform)\n",
    " - [Training a Simple Model](#model_train)\n",
    " - [Evaluating a Model](#model_evaluate)\n",
    " - [Overfitting & Bias Variance Tradeoff](#overfitting)\n",
    " - [Writing Proper Kaggle Submission](#kaggle_submission)\n",
    " - [What to do next](#next)\n",
    " - [Additional Resources](#additional_resources)"
   ]
  },
  {
   "cell_type": "markdown",
   "metadata": {},
   "source": [
    "### Setting up the notebook"
   ]
  },
  {
   "cell_type": "code",
   "execution_count": 2,
   "metadata": {},
   "outputs": [],
   "source": [
    "# Import the some stuff we need, others imported as needed througout\n",
    "import pickle                    # pythons version of serialization\n",
    "import warnings                  # control what warnings are displayed\n",
    "\n",
    "import pandas as pd              # tabular data tables\n",
    "import matplotlib.pyplot as plt  # simple visualizations\n",
    "import seaborn as sns            # built on top of matplotlib, maybe better depending on preference\n",
    "import numpy as np               # any dimensional arrays functions/classes"
   ]
  },
  {
   "cell_type": "code",
   "execution_count": 3,
   "metadata": {},
   "outputs": [],
   "source": [
    "# Make some changes to notebook set-up\n",
    "# make plots display in the notebook\n",
    "%matplotlib inline\n",
    "warnings.filterwarnings('ignore')     # warnings are ulgy, we can live without them"
   ]
  },
  {
   "cell_type": "code",
   "execution_count": 4,
   "metadata": {},
   "outputs": [],
   "source": [
    "# Constant Declarations for this run\n",
    "DATA_SET = \"data/sample_training_descs.pkl\"      # Link at end if you want to know about pickles\n",
    "RANDOM_SEED = 523                                # Make randomness reproducible"
   ]
  },
  {
   "cell_type": "markdown",
   "metadata": {},
   "source": [
    "<a id='data_reading'></a>\n",
    "## Reading in the Data"
   ]
  },
  {
   "cell_type": "code",
   "execution_count": 5,
   "metadata": {},
   "outputs": [
    {
     "data": {
      "text/html": [
       "<div>\n",
       "<style scoped>\n",
       "    .dataframe tbody tr th:only-of-type {\n",
       "        vertical-align: middle;\n",
       "    }\n",
       "\n",
       "    .dataframe tbody tr th {\n",
       "        vertical-align: top;\n",
       "    }\n",
       "\n",
       "    .dataframe thead th {\n",
       "        text-align: right;\n",
       "    }\n",
       "</style>\n",
       "<table border=\"1\" class=\"dataframe\">\n",
       "  <thead>\n",
       "    <tr style=\"text-align: right;\">\n",
       "      <th></th>\n",
       "      <th>id</th>\n",
       "      <th>bus_seq_num</th>\n",
       "      <th>target</th>\n",
       "      <th>desc</th>\n",
       "      <th>industry_group_id</th>\n",
       "      <th>construction_flag</th>\n",
       "    </tr>\n",
       "  </thead>\n",
       "  <tbody>\n",
       "    <tr>\n",
       "      <th>0</th>\n",
       "      <td>1000</td>\n",
       "      <td>1.0</td>\n",
       "      <td>0913</td>\n",
       "      <td>livestock operations</td>\n",
       "      <td>01</td>\n",
       "      <td>0</td>\n",
       "    </tr>\n",
       "    <tr>\n",
       "      <th>1</th>\n",
       "      <td>10000</td>\n",
       "      <td>1.0</td>\n",
       "      <td>9082</td>\n",
       "      <td>restaurant</td>\n",
       "      <td>36</td>\n",
       "      <td>0</td>\n",
       "    </tr>\n",
       "    <tr>\n",
       "      <th>2</th>\n",
       "      <td>1000004</td>\n",
       "      <td>1.0</td>\n",
       "      <td>5537</td>\n",
       "      <td>northern colorado air inc. and northern colora...</td>\n",
       "      <td>27</td>\n",
       "      <td>1</td>\n",
       "    </tr>\n",
       "    <tr>\n",
       "      <th>3</th>\n",
       "      <td>1000008</td>\n",
       "      <td>1.0</td>\n",
       "      <td>9083</td>\n",
       "      <td>fast-food chain serving chicken wings and fing...</td>\n",
       "      <td>36</td>\n",
       "      <td>0</td>\n",
       "    </tr>\n",
       "    <tr>\n",
       "      <th>4</th>\n",
       "      <td>1000009</td>\n",
       "      <td>1.0</td>\n",
       "      <td>9082</td>\n",
       "      <td>quay's restaurant group llc dba darcy's bistro...</td>\n",
       "      <td>36</td>\n",
       "      <td>0</td>\n",
       "    </tr>\n",
       "  </tbody>\n",
       "</table>\n",
       "</div>"
      ],
      "text/plain": [
       "        id  bus_seq_num target  \\\n",
       "0     1000          1.0   0913   \n",
       "1    10000          1.0   9082   \n",
       "2  1000004          1.0   5537   \n",
       "3  1000008          1.0   9083   \n",
       "4  1000009          1.0   9082   \n",
       "\n",
       "                                                desc industry_group_id  \\\n",
       "0                               livestock operations                01   \n",
       "1                                         restaurant                36   \n",
       "2  northern colorado air inc. and northern colora...                27   \n",
       "3  fast-food chain serving chicken wings and fing...                36   \n",
       "4  quay's restaurant group llc dba darcy's bistro...                36   \n",
       "\n",
       "  construction_flag  \n",
       "0                 0  \n",
       "1                 0  \n",
       "2                 1  \n",
       "3                 0  \n",
       "4                 0  "
      ]
     },
     "execution_count": 5,
     "metadata": {},
     "output_type": "execute_result"
    }
   ],
   "source": [
    "# Read in some example data to a dataframe\n",
    "with open(DATA_SET, 'rb') as in_pickle:          # Link at end for info on context managers\n",
    "    data_df = pickle.load(in_pickle)             # Link at end to learn about dataframes\n",
    "\n",
    "# What does our dataframe look like\n",
    "data_df.head()"
   ]
  },
  {
   "cell_type": "code",
   "execution_count": 6,
   "metadata": {},
   "outputs": [
    {
     "name": "stdout",
     "output_type": "stream",
     "text": [
      "<class 'pandas.core.frame.DataFrame'>\n",
      "RangeIndex: 10000 entries, 0 to 9999\n",
      "Data columns (total 6 columns):\n",
      "id                   10000 non-null object\n",
      "bus_seq_num          10000 non-null float64\n",
      "target               10000 non-null object\n",
      "desc                 10000 non-null object\n",
      "industry_group_id    10000 non-null object\n",
      "construction_flag    10000 non-null object\n",
      "dtypes: float64(1), object(5)\n",
      "memory usage: 468.8+ KB\n"
     ]
    }
   ],
   "source": [
    "# More info about this dataframe\n",
    "data_df.info()"
   ]
  },
  {
   "cell_type": "markdown",
   "metadata": {},
   "source": [
    "<span style=\"color:green\"><font size=4>Isn't this nice? Usually we will not be so lucky with any sort of data science project and there will be nulls, missing values, and many features and just some general garbage. In some cases like text classification this might not be the case though and we can skip the entire process of data munging and data cleaning. There will still be many options for data transformations, but at least we are starting from a nice clean point</font></span>"
   ]
  },
  {
   "cell_type": "markdown",
   "metadata": {},
   "source": [
    "<a id='data_explore'></a>\n",
    "## Exploring the data\n",
    "<span style=\"color:green\"><font size=4>Before jumping in on any data transformations or machine learning it is a good idea to take a look at the data. This will give us an idea of what kind of transofmations are needed and what kind of algorithms may work best. Although time consuming it can be beneficial down the road to understand what kind of data you are working with.</font></span>"
   ]
  },
  {
   "cell_type": "markdown",
   "metadata": {},
   "source": [
    "#### Take a look at a few descriptions"
   ]
  },
  {
   "cell_type": "code",
   "execution_count": 7,
   "metadata": {},
   "outputs": [
    {
     "name": "stdout",
     "output_type": "stream",
     "text": [
      "Descriptions - first 500 characters\n",
      "\n",
      "TARGET: 0913 or 0\n",
      "DESCR: livestock operations\n",
      "\n",
      "TARGET: 9082 or 0\n",
      "DESCR: restaurant\n",
      "\n",
      "TARGET: 5537 or 1\n",
      "DESCR: northern colorado air inc. and northern colorado air of longmont inc. is a hvac contractor in norther colorado.  insured has two locations:  fort collins and sales office in longmont.   insured offers installation, repairs of hvac systems, preventative planned maintenance, and sheet metal fabrication.  insured does residential and light commercial.   \n",
      "\n",
      "employees will do service calls, replacements, new construction (1111); administrative employees who handle calls, general manager, administrativ\n",
      "\n",
      "TARGET: 9083 or 0\n",
      "DESCR: fast-food chain serving chicken wings and fingers, plus burgers, chili and sides\n",
      "\n",
      "TARGET: 9082 or 0\n",
      "DESCR: quay's restaurant group llc dba darcy's bistro and pub is a sit down restaurant serving appetizers, alcohol and food.  \n",
      "\n",
      "full service restaurant.  duties include:  food preparation, order taking, food running, dishwashing, bartending, cash handling, cleaning, product ordering. \n",
      "\n",
      "restaurant serving appetizers, alcohol, and food.  per the 11/11 audit :  food sales is over 11% of total sales - class 1111 applies. employees include:  kitchen/dishwasher staff, wait/server staff, hostess staff, manage\n",
      "\n"
     ]
    }
   ],
   "source": [
    "# Additional resources has a link to decent python string formatting walthrough\n",
    "max_characters = 500\n",
    "print(f\"Descriptions - first {max_characters} characters\\n\")\n",
    "for _, row in data_df.iloc[:5].iterrows():\n",
    "    print(f\"TARGET: {row['target']} or {row['construction_flag']}\\nDESCR: {row['desc'].strip()[:max_characters]}\\n\")"
   ]
  },
  {
   "cell_type": "markdown",
   "metadata": {},
   "source": [
    "<span style=\"color:green\"><font size=4>Things worth noting\n",
    "* Our predictive feature in this case are text strings  \n",
    "* This needs to be transformed for any machine learning algorithms  \n",
    "* These strings are of very different lengths\n",
    "* The text could use some cleaning things like , ' : - . ) etc....\n",
    "* Also worth noting how jargony these descriptions are</font></span>\n",
    "\n",
    "<span style=\"color:green\"><font size=4>\n",
    "All of these things can be taken care, and we will walk through how to handle them as we work on the data transformation section\n",
    "</font></span>"
   ]
  },
  {
   "cell_type": "markdown",
   "metadata": {},
   "source": [
    "##### How long are these descriptions?"
   ]
  },
  {
   "cell_type": "code",
   "execution_count": 8,
   "metadata": {},
   "outputs": [
    {
     "data": {
      "image/png": "[encoded data removed]",
      "text/plain": [
       "<Figure size 720x432 with 2 Axes>"
      ]
     },
     "metadata": {},
     "output_type": "display_data"
    }
   ],
   "source": [
    "# Graph of log counts and total counts for all descritpions\n",
    "fig, ax = plt.subplots(1, 2, figsize=(10,6))                            # Make an empty figure we can control\n",
    "word_counts = data_df['desc'].apply(lambda x: len(x.split()))           # Number of words in each description\n",
    "log_counts = np.log(word_counts + 0.0001)                               # need small adjustments for any 0's\n",
    "\n",
    "# Generate first subplot - total counts\n",
    "sns.distplot(a=word_counts, bins=40, axlabel=\"Word Counts\", ax=ax[0])\n",
    "ax[0].axvline(x=np.average(word_counts), color='k', linestyle='--')\n",
    "\n",
    "# Generate second subplot - log counts\n",
    "sns.distplot(a=log_counts, bins=40, axlabel=\"Log of Word Counts\", ax=ax[1])\n",
    "ax[1].axvline(x=np.average(log_counts), color='k', linestyle='--')\n",
    "\n",
    "# Clean these up a bit\n",
    "ax[0].set_xlim(left=0)\n",
    "ax[1].set_xlim(left=0);"
   ]
  },
  {
   "cell_type": "markdown",
   "metadata": {},
   "source": [
    "##### Exercise 1: How many unique different words are we dealing with?\n",
    "If you feel like trying to write some code then give the exercises throughout a go. Some of them might be harder than others, just do what seems interesting. They are not vital to the tutorial if you feel like skipping them. There are many ways to approach these, potential answers can be found at the end of the notebook\n",
    "\n",
    "\n",
    "Fill in the below code to generate graphs like above\n",
    "This does not have to be perfect, but feel free to try and remove punctuation and such to make it better"
   ]
  },
  {
   "cell_type": "code",
   "execution_count": 9,
   "metadata": {},
   "outputs": [
    {
     "name": "stdout",
     "output_type": "stream",
     "text": [
      "Total Non-Uqique Words 25,438\n"
     ]
    }
   ],
   "source": [
    "# See numbr of words (not perfect still has punctuation and stuff)\n",
    "num_words = len(set(' '.join(data_df['desc']).split(' ')))\n",
    "print(f\"Total Non-Uqique Words {num_words:,}\")\n",
    "\n",
    "# Make a big string of all the descriptions\n",
    "pass\n",
    "\n",
    "# Make a list of all the words\n",
    "pass\n",
    "\n",
    "# Remove punctuation from all words\n",
    "pass\n",
    "\n",
    "# Get a count of all the unique words\n",
    "from collections import Counter        # just an option to use, many other options\n",
    "pass\n",
    "\n",
    "# Examine counts, maybe plot like above if wanted\n",
    "pass"
   ]
  },
  {
   "cell_type": "markdown",
   "metadata": {},
   "source": [
    "#### Examine the target \n",
    "Here we are going to try and predict the binary category of construction vs. not construction so it is probably a good idea to take a quick and make sure this is balanced."
   ]
  },
  {
   "cell_type": "code",
   "execution_count": 10,
   "metadata": {},
   "outputs": [
    {
     "data": {
      "image/png": "[encoded data removed]",
      "text/plain": [
       "<Figure size 432x288 with 1 Axes>"
      ]
     },
     "metadata": {},
     "output_type": "display_data"
    }
   ],
   "source": [
    "# Laziest way is utilize a prebuilt plot, could always build more graudually ourselves though\n",
    "fig, ax = plt.subplots()\n",
    "sns.countplot(data=data_df, x='construction_flag', ax=ax);"
   ]
  },
  {
   "cell_type": "markdown",
   "metadata": {},
   "source": [
    "<span style=\"color:green\"><font size=4>\n",
    "Well, this is not balanced, but it is not terrible. There are ways to deal with. Could try to blance it and then train a model, or could train as is and give the different classes different weights, or could choose a metric during cross validation that helps with this. Could maybe do nothing since it is not too bad, but it is definitly good to keep in mind.  \n",
    "    </span>"
   ]
  },
  {
   "cell_type": "markdown",
   "metadata": {},
   "source": [
    "<a id='how_to_data_transform'></a>\n",
    "## Understanding Text Data Transformation"
   ]
  },
  {
   "cell_type": "markdown",
   "metadata": {},
   "source": [
    "<span style=\"color:green\"><font size=4>For most python machine learning the algorithms will only accept numerical data. So something like \"I am a landscaper\" needs to be transformed. There are many options to transform this text into vectors, simple boolean ones, count ones, or a fairly standard tfidf (Term Frequency / Inverse Document Frequency). Lets walk through a very trivial creation of some simplified TFIDF vectors. Lets suppose we have 4 descriptions.</font></span> "
   ]
  },
  {
   "cell_type": "markdown",
   "metadata": {},
   "source": [
    "|Doc Number  |  raw descr                             |\n",
    "|------------|----------------------------------------|\n",
    "|1           | I walk dogs, and love dogs             |\n",
    "|2           | I train dogs to talk :)                |\n",
    "|3           | I am a dog catcher that cathes.        |\n",
    "|4           | bread baker, and other baked goods     |"
   ]
  },
  {
   "cell_type": "markdown",
   "metadata": {},
   "source": [
    "<span style=\"color:green\"><font size=4>First we remove some useless words called \"stop words\", and get rid of any puntuation and could possibly remove plurals and maybe apply some stemming and lemming. Discussion of \"stop words\", and \"stemming and lemming\" can be found in the additional links section a the end. The choice to use lemming or stemming can be up to you as you approach the problem. For example if we were to turn all instances of goods into good would we lose meaning? Questions like this may depend on the domain we are working in or the size of the corpus we are dealing with</font></span> "
   ]
  },
  {
   "cell_type": "markdown",
   "metadata": {},
   "source": [
    "|Doc Number  |  raw descr                             | cleaner descr         |\n",
    "|------------|----------------------------------------|-----------------------|\n",
    "|1           | I walk dogs, and love dogs             | walk dog love dog     |\n",
    "|2           | I train dogs to talk :)                | train dog talk        |\n",
    "|3           | I am a dog catcher that catches.        | dog catch catch       |\n",
    "|4           | bread baker, and other baked goods     | bread bake bake good  |"
   ]
  },
  {
   "cell_type": "markdown",
   "metadata": {},
   "source": [
    "<span style=\"color:green\"><font size=4>So now we need to get the term count of the each term, or how many times it appears in each document</font></span> "
   ]
  },
  {
   "cell_type": "markdown",
   "metadata": {},
   "source": [
    "|Doc Number  | ... | cleaner descr         | walk | dog | love | train | talk | catch | bread | bake |good |\n",
    "|------------|-----|-----------------------|------|-----|------|-------|------|-------|-------|------|-----|\n",
    "|1           | ... | walk dog love dog     | 1    | 2   | 1    | 0     | 0    | 0     | 0     | 0    |0    |\n",
    "|2           | ... | train dog talk        | 0    | 1   | 0    | 1     | 1    | 0     | 0     | 0    |0    |\n",
    "|3           | ... | dog catch catch       | 0    | 1   | 0    | 0     | 0    | 2     | 0     | 0    |0    |\n",
    "|4           | ... | bread bake bake good  | 0    | 0   | 0    | 0     | 0    | 0     | 1     | 2    |1    |"
   ]
  },
  {
   "cell_type": "markdown",
   "metadata": {},
   "source": [
    "<span style=\"color:green\"><font size=4>Now to account for how important a word is to a document we need to account for the length of a documnet. If the word dog appears 2 times in a 15 word document it is probably very important. If it appears 2 times in a 15,000 word document it is probably less important. This is done simple by dividing the count by the total document length. So in the first document dog appears 2 times in a 4 word document. This will gives us the Term Frequency or TF, the first piece of the tf-idf.  \n",
    "$$tf = \\dfrac{wordCount}{documentLenth}$$  \n",
    "$$tfDoc1Dog = \\dfrac{2}{4} = 0.5$$\n",
    "</font></span> "
   ]
  },
  {
   "cell_type": "markdown",
   "metadata": {},
   "source": [
    "|Doc Number  | ... | cleaner descr         | walk | dog | love | train | talk | catch | bread | bake |good |\n",
    "|------------|-----|-----------------------|------|-----|------|-------|------|-------|-------|------|-----|\n",
    "|1           | ... | walk dog love dog     | 0.25 | 0.5 | 0.25 | 0     | 0    | 0     | 0     | 0    |0    |\n",
    "|2           | ... | train dog talk        | 0    | 0.33| 0    | 0.33  | 0.33 | 0     | 0     | 0    |0    |\n",
    "|3           | ... | dog catch catch       | 0    | 0.33| 0    | 0     | 0    | 0.66  | 0     | 0    |0    |\n",
    "|4           | ... | bread bake bake good  | 0    | 0   | 0    | 0     | 0    | 0     | 0.25  | 0.5  |0.25 |"
   ]
  },
  {
   "cell_type": "markdown",
   "metadata": {},
   "source": [
    "<span style=\"color:green\"><font size=4>\n",
    "Now that we have the TF we need the IDF. IDF stands for Inverse Document Frequency. If a word appears a lot in a document we might think it is important. But what if that word appears alot in all of the documents? Then it really doesn't serve as a basis to distiguish between documents. If I have a corpus of books the word \"worker\" might be meaningful. But since we are dealing with business descriptions the word \"worker\" might not be helpful in distigushing between descriptions. The IDF helps account for this. The idf is a value that is calculated for each word. For example we have 4 documents. For the word dog it appears in 3 documents. The idf can then be calculated.\n",
    "$$idf = log(\\dfrac{totalDocumentCount}{documentsWWord})$$  \n",
    "$$idfDog = log(\\dfrac{4}{3}) = 0.125$$  \n",
    "</font></span>"
   ]
  },
  {
   "cell_type": "markdown",
   "metadata": {},
   "source": [
    "|Doc Number  | ... | cleaner descr         | walk | dog | love | train | talk | catch | bread | bake |good |\n",
    "|------------|:---:|-----------------------|------|-----|------|-------|------|-------|-------|------|-----|\n",
    "|1           | ... | walk dog love dog     | 0.25 | 0.5 | 0.25 | 0     | 0    | 0     | 0     | 0    |0    |\n",
    "|2           | ... | train dog talk        | 0    | 0.33| 0    | 0.33  | 0.33 | 0     | 0     | 0    |0    |\n",
    "|3           | ... | dog catch catch       | 0    | 0.33| 0    | 0     | 0    | 0.66  | 0     | 0    |0    |\n",
    "|4           | ... | bread bake bake good  | 0    | 0   | 0    | 0     | 0    | 0     | 0.25  | 0.5  |0.25 |\n",
    "|idf         |     |                       |0.602 |0.125|0.602 |0.602  |0.602 |0.602  |0.602  |0.602 |0.602|"
   ]
  },
  {
   "cell_type": "markdown",
   "metadata": {},
   "source": [
    "<span style=\"color:green\"><font size=4>\n",
    "All that is left to do is create the tfidf. This is essentiall saying \"how impotant is the term to the document? Weighted by how importan the term is to the corpus? Simple multiply the tf and idf for this final value\n",
    "$$tfidf = {tf}\\cdot{idf}$$  \n",
    "$$tfidfDoc1Dog = {0.5} \\cdot {0.125} = 0.0625$$\n",
    "</font></span>"
   ]
  },
  {
   "cell_type": "markdown",
   "metadata": {},
   "source": [
    "|Doc Number  | ... | cleaner descr         | walk | dog | love | train | talk | catch | bread | bake |good |\n",
    "|------------|-----|-----------------------|------|-----|------|-------|------|-------|-------|------|-----|\n",
    "|1           | ... | walk dog love dog     | 0.151|0.063| 0.151| 0     | 0    | 0     | 0     | 0    |0    |\n",
    "|2           | ... | train dog talk        | 0    |0.041| 0    | 0.199 | 0.199| 0     | 0     | 0    |0    |\n",
    "|3           | ... | dog catch catch       | 0    |0.041| 0    | 0     | 0    | 0.397 | 0     | 0    |0    |\n",
    "|4           | ... | bread bake bake good  | 0    | 0   | 0    | 0     | 0    | 0     | 0.151 | 0.301|0.151|"
   ]
  },
  {
   "cell_type": "markdown",
   "metadata": {},
   "source": [
    "<span style=\"color:green\"><font size=4>\n",
    "So we took all of the descriptions from something we could understand to something a machine learning algorithm can understand. For example the first document</font></span>\n",
    "    <center>\"I walk dogs, and love dogs\"</center>\n",
    "    <center> became </center>\n",
    "    <center> [0.151, 0.063, 0.151, 0, 0, 0, 0, 0,0 0] </center>\n",
    "<span style=\"color:green\"><font size=4>\n",
    "Q: Can we interpret this?  \n",
    "A: We can try, we can assume that 'dog' is less important to this description than the words 'walk' or 'love'. This is because even though 'dog' occured many times in this document it also occured many times in the whole corpus. \n",
    "    \n",
    "In real example our corpus of documents will be much larger, but the same techniques still apply. This is not the only represenation that we can use but it is one of the more simpler ones. For example we have loss all notion of position and relativity in our terms. There are other more complex data structures that can be utilized by neural nets that can retain this information, but the tfidf for its simplisity still does remarkably well\n",
    "</font></span>"
   ]
  },
  {
   "cell_type": "markdown",
   "metadata": {},
   "source": [
    "<a id='data_transform'></a>\n",
    "## Transforming Your Data\n",
    "<span style=\"color:green\"><font size=4>\n",
    "Now we need to apply what we just went through to our own data set.\n",
    "</span>"
   ]
  },
  {
   "cell_type": "markdown",
   "metadata": {},
   "source": [
    "The below function to is to help evaulate and understand what this tranformation has done. Can be used after text is transformed to view a single document."
   ]
  },
  {
   "cell_type": "code",
   "execution_count": 11,
   "metadata": {},
   "outputs": [],
   "source": [
    "def summarize_doc_transformation(doc_df, doc_index, trained_vectorizer, tfidf_matrix, column='desc',\n",
    "                                 terms_per_line=4):\n",
    "    \"\"\"\n",
    "    DESCR: A function to help evaluate the individual transformation of documents to tfidf vectors.\n",
    "    INPUT: doc_df - pandas.DataFrame - \n",
    "           doc_index - int - \n",
    "           trained_vectorizer - sklearn...tfidfVec... -  \n",
    "    OUTPUT: stdout, no return\n",
    "    \"\"\"\n",
    "    # Print out what this document looked like before transformation\n",
    "    print(f\"DOCUMENT: {doc_index}\")\n",
    "    print(\"ORIGINAL DOCUMENT:\")\n",
    "    print(f\"{repr(doc_df.iloc[doc_index][column])}\\n\")\n",
    "    \n",
    "    # See a tfidf represenation\n",
    "    vect = tfidf_matrix.todense()[doc_index,:]    # get a single vector to work with\n",
    "    \n",
    "    # take only the non-zero terms\n",
    "    important_terms = [(term, vect[0, index]) for term, index in trained_vectorizer.vocabulary_.items()\n",
    "                       if vect[0, index] != 0]\n",
    "    \n",
    "    # Sort by most to least important\n",
    "    important_terms = sorted(important_terms, key=lambda x: x[1], reverse=True)\n",
    "\n",
    "    # print out the terms along with their tfidfs\n",
    "    print(\"NON ZERO VECTOR VALUES (Most to Least Important):\")\n",
    "    words_on_line = 0\n",
    "    for term, tfidf in important_terms:\n",
    "        print(f\"{term+':':<15} {tfidf:0.3f}    \", end=\"\")\n",
    "        words_on_line += 1\n",
    "        if words_on_line >= terms_per_line:\n",
    "            print()\n",
    "            words_on_line = 0\n",
    "    \n",
    "    print(f\"\\nTERMS w/ ZERO VALUE: {tfidf_matrix.shape[1] - len(important_terms):,}\")\n",
    "    print(f\"Sum of terms: {sum([tfidf for term, tfidf in important_terms]):0.2f}\")"
   ]
  },
  {
   "cell_type": "markdown",
   "metadata": {},
   "source": [
    "#### Make and train an object that handles tfidf creation"
   ]
  },
  {
   "cell_type": "code",
   "execution_count": 12,
   "metadata": {},
   "outputs": [],
   "source": [
    "# Import and set up and object to transform our text\n",
    "# leaving this all very conservative, can be tweeked and experimented with\n",
    "# all of these hyper paramters could alternatively be found via a cross validated gridsearch\n",
    "from sklearn.feature_extraction.text import TfidfVectorizer\n",
    "vectorizer = TfidfVectorizer(strip_accents='ascii',    # don't need é kind of stuff\n",
    "                             ngram_range=(1,1),        # could have 'dog runner' as a single term if 2\n",
    "                             stop_words='english',     # a, the, is, or, ....\n",
    "                             max_df=0.8,               # is it in too many documnets?  \n",
    "                             min_df=0.0,               # is it in too few documents?\n",
    "                             max_features=None,        # try to avoid ridiculously high dimensionality\n",
    "                             preprocessor=None,        # replace to customize preporcessing\n",
    "                             tokenizer=None,           # replace to customize token generation\n",
    "                             )"
   ]
  },
  {
   "cell_type": "code",
   "execution_count": 13,
   "metadata": {},
   "outputs": [
    {
     "name": "stdout",
     "output_type": "stream",
     "text": [
      "Data structure: <class 'scipy.sparse.csr.csr_matrix'>\n",
      "Number of rows (documents): 10,000\n",
      "Number of features (terms): 12,054\n"
     ]
    }
   ],
   "source": [
    "# First attempt at using the above vectorizer\n",
    "tfidf_matrix = vectorizer.fit_transform(data_df['desc'])\n",
    "\n",
    "# Explain some thing about this object\n",
    "print(f\"Data structure: {type(tfidf_matrix)}\")\n",
    "print(f\"Number of rows (documents): {tfidf_matrix.shape[0]:,}\")\n",
    "print(f\"Number of features (terms): {tfidf_matrix.shape[1]:,}\")"
   ]
  },
  {
   "cell_type": "markdown",
   "metadata": {},
   "source": [
    "#### Examine the effect of the transformation on our documents"
   ]
  },
  {
   "cell_type": "code",
   "execution_count": 14,
   "metadata": {},
   "outputs": [
    {
     "name": "stdout",
     "output_type": "stream",
     "text": [
      "DOCUMENT: 12\n",
      "ORIGINAL DOCUMENT:\n",
      "'https://www.catalystcampus.com/\\nwork and education environment--\\nthe catalyst campus is a community where various sectors of advanced industries to include aerospace, defense, information assurance, satellite operations, cyber security, technology and information, and advanced manufacturing, converge to collaborate on innovative ideas that promote technological advancement and ultimately, the creation of high-skilled, high-paying jobs for the pikes peak region.'\n",
      "\n",
      "NON ZERO VECTOR VALUES (Most to Least Important):\n",
      "advanced:       0.304    high:           0.226    information:    0.201    catalystcampus: 0.181    \n",
      "catalyst:       0.181    sectors:        0.181    aerospace:      0.181    converge:       0.181    \n",
      "collaborate:    0.181    ultimately:     0.181    https:          0.173    defense:        0.173    \n",
      "cyber:          0.173    innovative:     0.173    ideas:          0.173    advancement:    0.173    \n",
      "technological:  0.167    paying:         0.167    creation:       0.163    pikes:          0.154    \n",
      "promote:        0.150    assurance:      0.148    region:         0.147    skilled:        0.144    \n",
      "campus:         0.144    peak:           0.138    satellite:      0.137    environment:    0.133    \n",
      "technology:     0.131    education:      0.119    community:      0.115    industries:     0.113    \n",
      "security:       0.110    com:            0.107    www:            0.105    manufacturing:  0.105    \n",
      "various:        0.100    jobs:           0.100    include:        0.080    operations:     0.078    \n",
      "work:           0.060    \n",
      "TERMS w/ ZERO VALUE: 12,013\n",
      "Sum of terms: 6.15\n"
     ]
    }
   ],
   "source": [
    "# Change the documnet number to see the effect on different documents\n",
    "doc_ind = 12\n",
    "summarize_doc_transformation(data_df, doc_ind, vectorizer, tfidf_matrix)"
   ]
  },
  {
   "cell_type": "markdown",
   "metadata": {},
   "source": [
    "#### Exercise 2: Play with the hyper parameters of the text transformer object, retrain, and exmine the results"
   ]
  },
  {
   "cell_type": "markdown",
   "metadata": {},
   "source": [
    "#### Exercise 3: Create a self defined function to replace the tokenizer, see if you can find something to improve"
   ]
  },
  {
   "cell_type": "code",
   "execution_count": 15,
   "metadata": {},
   "outputs": [],
   "source": [
    "def my_tokenizer(text):\n",
    "    pass"
   ]
  },
  {
   "cell_type": "markdown",
   "metadata": {},
   "source": [
    "#### Exercise 4: See the effect of min_df and max_df on the size of the features space"
   ]
  },
  {
   "cell_type": "code",
   "execution_count": 16,
   "metadata": {},
   "outputs": [],
   "source": [
    "pass"
   ]
  },
  {
   "cell_type": "markdown",
   "metadata": {},
   "source": [
    "<a id='model_train'></a>\n",
    "## Train a Simple Model\n",
    "<span style=\"color:green\"><font size=4>\n",
    "We are going to now make a simple model using machine learning. Machine learning algorithms gets a lot of hype and mysticism, but they are no more than a specific class of algorithms. Machine learning algorithms take data and a target as input, and as an output they return another algorithm. Specifically an algorithm that takes the same kind of data as input and returns predictions for the target.\n",
    "</span>\n",
    "<img src='./images/ma_simple.PNG'>\n",
    "<span style=\"color:green\"><font size=4>\n",
    "For this model we are going to use a simple decison tree. The idea is easy, we create a binary tree by starting at the root with all of the data. We then examine each feature 1 by 1, and within each feature we look for a split that will divide the data into more pure groupings. Once we have found the best split we apply it creating two more nodes on our tree. We then go to each of these child nodes and repeat. We are done when resulting nodes are pure, or we meet some other criteria such as max depth, an acceptable purity etc.\n",
    "</span>"
   ]
  },
  {
   "cell_type": "markdown",
   "metadata": {},
   "source": [
    "#### Setup Training for decision tree"
   ]
  },
  {
   "cell_type": "code",
   "execution_count": 18,
   "metadata": {},
   "outputs": [],
   "source": [
    "# Import a bunch of stuff to create a model\n",
    "from sklearn.tree import DecisionTreeClassifier as TreeModel\n",
    "from sklearn.model_selection import train_test_split\n",
    "from graphviz import Source\n",
    "from IPython.display import SVG\n",
    "from sklearn.tree import export_graphviz\n",
    "from sklearn.metrics import accuracy_score\n",
    "\n",
    "# If on windows like me will need to add in location to graphviz\n",
    "# You will need to alter the path accordingly, maybe just your username will change\n",
    "#import os\n",
    "#os.environ['PATH'] += ';C:\\\\Users\\\\ranneyr\\\\AppData\\\\Local\\\\Continuum\\\\Anaconda3\\\\envs\\\\pendragon\\\\Library\\\\bin\\\\graphviz'"
   ]
  },
  {
   "cell_type": "code",
   "execution_count": 19,
   "metadata": {},
   "outputs": [],
   "source": [
    "# We need a hold out set\n",
    "# we will use this to evaluate a final model\n",
    "X_train, X_test, y_train, y_test = train_test_split(tfidf_matrix, data_df['construction_flag'])"
   ]
  },
  {
   "cell_type": "code",
   "execution_count": 20,
   "metadata": {},
   "outputs": [],
   "source": [
    "# Have to remap features names from the vectorizer object\n",
    "# kind of a hassle, but makes tree much more interpretable\n",
    "features = [term for num, term in sorted([(num, term) \n",
    "            for term, num in vectorizer.vocabulary_.items()])]"
   ]
  },
  {
   "cell_type": "markdown",
   "metadata": {},
   "source": [
    "#### See a tree built level by level"
   ]
  },
  {
   "cell_type": "code",
   "execution_count": 21,
   "metadata": {},
   "outputs": [
    {
     "data": {
      "image/svg+xml": [
       "<svg height=\"162pt\" viewBox=\"0.00 0.00 286.00 162.00\" width=\"286pt\" xmlns=\"http://www.w3.org/2000/svg\" xmlns:xlink=\"http://www.w3.org/1999/xlink\">\n",
       "<g class=\"graph\" id=\"graph0\" transform=\"scale(1 1) rotate(0) translate(4 158)\">\n",
       "<title>Tree</title>\n",
       "<polygon fill=\"#ffffff\" points=\"-4,4 -4,-158 282,-158 282,4 -4,4\" stroke=\"transparent\"/>\n",
       "<!-- 0 -->\n",
       "<g class=\"node\" id=\"node1\">\n",
       "<title>0</title>\n",
       "<polygon fill=\"#e58139\" fill-opacity=\"0.454902\" points=\"121,-118.5 0,-118.5 0,-35.5 121,-35.5 121,-118.5\" stroke=\"#000000\"/>\n",
       "<text fill=\"#000000\" font-family=\"Times,serif\" font-size=\"14.00\" text-anchor=\"middle\" x=\"60.5\" y=\"-103.3\">residential &lt;= 0.05</text>\n",
       "<text fill=\"#000000\" font-family=\"Times,serif\" font-size=\"14.00\" text-anchor=\"middle\" x=\"60.5\" y=\"-88.3\">entropy = 0.936</text>\n",
       "<text fill=\"#000000\" font-family=\"Times,serif\" font-size=\"14.00\" text-anchor=\"middle\" x=\"60.5\" y=\"-73.3\">samples = 7500</text>\n",
       "<text fill=\"#000000\" font-family=\"Times,serif\" font-size=\"14.00\" text-anchor=\"middle\" x=\"60.5\" y=\"-58.3\">value = [4858, 2642]</text>\n",
       "<text fill=\"#000000\" font-family=\"Times,serif\" font-size=\"14.00\" text-anchor=\"middle\" x=\"60.5\" y=\"-43.3\">class = Not Construction</text>\n",
       "</g>\n",
       "<!-- 1 -->\n",
       "<g class=\"node\" id=\"node2\">\n",
       "<title>1</title>\n",
       "<polygon fill=\"#e58139\" fill-opacity=\"0.607843\" points=\"278,-154 157,-154 157,-86 278,-86 278,-154\" stroke=\"#000000\"/>\n",
       "<text fill=\"#000000\" font-family=\"Times,serif\" font-size=\"14.00\" text-anchor=\"middle\" x=\"217.5\" y=\"-138.8\">entropy = 0.859</text>\n",
       "<text fill=\"#000000\" font-family=\"Times,serif\" font-size=\"14.00\" text-anchor=\"middle\" x=\"217.5\" y=\"-123.8\">samples = 6585</text>\n",
       "<text fill=\"#000000\" font-family=\"Times,serif\" font-size=\"14.00\" text-anchor=\"middle\" x=\"217.5\" y=\"-108.8\">value = [4724, 1861]</text>\n",
       "<text fill=\"#000000\" font-family=\"Times,serif\" font-size=\"14.00\" text-anchor=\"middle\" x=\"217.5\" y=\"-93.8\">class = Not Construction</text>\n",
       "</g>\n",
       "<!-- 0&#45;&gt;1 -->\n",
       "<g class=\"edge\" id=\"edge1\">\n",
       "<title>0-&gt;1</title>\n",
       "<path d=\"M121.2003,-93.6249C129.7267,-95.9602 138.5488,-98.3764 147.235,-100.7554\" fill=\"none\" stroke=\"#000000\"/>\n",
       "<polygon fill=\"#000000\" points=\"146.3918,-104.1533 156.9611,-103.4193 148.2409,-97.402 146.3918,-104.1533\" stroke=\"#000000\"/>\n",
       "<text fill=\"#000000\" font-family=\"Times,serif\" font-size=\"14.00\" text-anchor=\"middle\" x=\"135.2417\" y=\"-112.0994\">True</text>\n",
       "</g>\n",
       "<!-- 2 -->\n",
       "<g class=\"node\" id=\"node3\">\n",
       "<title>2</title>\n",
       "<polygon fill=\"#399de5\" fill-opacity=\"0.827451\" points=\"268.5,-68 166.5,-68 166.5,0 268.5,0 268.5,-68\" stroke=\"#000000\"/>\n",
       "<text fill=\"#000000\" font-family=\"Times,serif\" font-size=\"14.00\" text-anchor=\"middle\" x=\"217.5\" y=\"-52.8\">entropy = 0.601</text>\n",
       "<text fill=\"#000000\" font-family=\"Times,serif\" font-size=\"14.00\" text-anchor=\"middle\" x=\"217.5\" y=\"-37.8\">samples = 915</text>\n",
       "<text fill=\"#000000\" font-family=\"Times,serif\" font-size=\"14.00\" text-anchor=\"middle\" x=\"217.5\" y=\"-22.8\">value = [134, 781]</text>\n",
       "<text fill=\"#000000\" font-family=\"Times,serif\" font-size=\"14.00\" text-anchor=\"middle\" x=\"217.5\" y=\"-7.8\">class = Construction</text>\n",
       "</g>\n",
       "<!-- 0&#45;&gt;2 -->\n",
       "<g class=\"edge\" id=\"edge2\">\n",
       "<title>0-&gt;2</title>\n",
       "<path d=\"M121.2003,-60.3751C132.7461,-57.2128 144.8342,-53.9021 156.3926,-50.7364\" fill=\"none\" stroke=\"#000000\"/>\n",
       "<polygon fill=\"#000000\" points=\"157.6665,-54.0165 166.3867,-47.9992 155.8174,-47.2651 157.6665,-54.0165\" stroke=\"#000000\"/>\n",
       "<text fill=\"#000000\" font-family=\"Times,serif\" font-size=\"14.00\" text-anchor=\"middle\" x=\"144.6673\" y=\"-31.9191\">False</text>\n",
       "</g>\n",
       "</g>\n",
       "</svg>"
      ],
      "text/plain": [
       "<IPython.core.display.SVG object>"
      ]
     },
     "execution_count": 21,
     "metadata": {},
     "output_type": "execute_result"
    }
   ],
   "source": [
    "# Initialize and train a single split model\n",
    "clf = TreeModel(max_depth=1, criterion='entropy').fit(X_train, y_train)\n",
    "graph = Source(export_graphviz(clf, out_file=None, feature_names=features, filled=True, rotate=True,\n",
    "                               class_names=['Not Construction', 'Construction']))\n",
    "SVG(graph.pipe(format='svg'))"
   ]
  },
  {
   "cell_type": "markdown",
   "metadata": {},
   "source": [
    "<span style=\"color:green\"><font size=4>\n",
    "So this is suggesting if the word \"residential\" is important to the document ie a high value, then that is most likely a constuction description. Gini is the evaulation of node purity, there is a useful link in the additional info section. It is not the only was to calculate node purity though and we could have chosen a different one if desired.\n",
    "</span>"
   ]
  },
  {
   "cell_type": "code",
   "execution_count": 20,
   "metadata": {},
   "outputs": [
    {
     "data": {
      "image/svg+xml": [
       "<svg height=\"338pt\" viewBox=\"0.00 0.00 554.00 338.00\" width=\"554pt\" xmlns=\"http://www.w3.org/2000/svg\" xmlns:xlink=\"http://www.w3.org/1999/xlink\">\n",
       "<g class=\"graph\" id=\"graph0\" transform=\"scale(1 1) rotate(0) translate(4 334)\">\n",
       "<title>Tree</title>\n",
       "<polygon fill=\"white\" points=\"-4,4 -4,-334 550,-334 550,4 -4,4\" stroke=\"none\"/>\n",
       "<!-- 0 -->\n",
       "<g class=\"node\" id=\"node1\"><title>0</title>\n",
       "<polygon fill=\"#e58139\" fill-opacity=\"0.462745\" points=\"158,-207.5 0,-207.5 0,-124.5 158,-124.5 158,-207.5\" stroke=\"black\"/>\n",
       "<text font-family=\"Times New Roman,serif\" font-size=\"14.00\" text-anchor=\"middle\" x=\"79\" y=\"-192.3\">residential &lt;= 0.026</text>\n",
       "<text font-family=\"Times New Roman,serif\" font-size=\"14.00\" text-anchor=\"middle\" x=\"79\" y=\"-177.3\">entropy = 0.934</text>\n",
       "<text font-family=\"Times New Roman,serif\" font-size=\"14.00\" text-anchor=\"middle\" x=\"79\" y=\"-162.3\">samples = 7500</text>\n",
       "<text font-family=\"Times New Roman,serif\" font-size=\"14.00\" text-anchor=\"middle\" x=\"79\" y=\"-147.3\">value = [4876, 2624]</text>\n",
       "<text font-family=\"Times New Roman,serif\" font-size=\"14.00\" text-anchor=\"middle\" x=\"79\" y=\"-132.3\">class = Not Construction</text>\n",
       "</g>\n",
       "<!-- 1 -->\n",
       "<g class=\"node\" id=\"node2\"><title>1</title>\n",
       "<polygon fill=\"#e58139\" fill-opacity=\"0.619608\" points=\"352,-258.5 194,-258.5 194,-175.5 352,-175.5 352,-258.5\" stroke=\"black\"/>\n",
       "<text font-family=\"Times New Roman,serif\" font-size=\"14.00\" text-anchor=\"middle\" x=\"273\" y=\"-243.3\">contractor &lt;= 0.048</text>\n",
       "<text font-family=\"Times New Roman,serif\" font-size=\"14.00\" text-anchor=\"middle\" x=\"273\" y=\"-228.3\">entropy = 0.851</text>\n",
       "<text font-family=\"Times New Roman,serif\" font-size=\"14.00\" text-anchor=\"middle\" x=\"273\" y=\"-213.3\">samples = 6530</text>\n",
       "<text font-family=\"Times New Roman,serif\" font-size=\"14.00\" text-anchor=\"middle\" x=\"273\" y=\"-198.3\">value = [4724, 1806]</text>\n",
       "<text font-family=\"Times New Roman,serif\" font-size=\"14.00\" text-anchor=\"middle\" x=\"273\" y=\"-183.3\">class = Not Construction</text>\n",
       "</g>\n",
       "<!-- 0&#45;&gt;1 -->\n",
       "<g class=\"edge\" id=\"edge1\"><title>0-&gt;1</title>\n",
       "<path d=\"M158.094,-186.744C166.693,-189.028 175.491,-191.365 184.198,-193.678\" fill=\"none\" stroke=\"black\"/>\n",
       "<polygon fill=\"black\" points=\"183.412,-197.09 193.975,-196.275 185.209,-190.325 183.412,-197.09\" stroke=\"black\"/>\n",
       "<text font-family=\"Times New Roman,serif\" font-size=\"14.00\" text-anchor=\"middle\" x=\"172.352\" y=\"-205.122\">True</text>\n",
       "</g>\n",
       "<!-- 4 -->\n",
       "<g class=\"node\" id=\"node5\"><title>4</title>\n",
       "<polygon fill=\"#399de5\" fill-opacity=\"0.815686\" points=\"339.5,-157.5 206.5,-157.5 206.5,-74.5 339.5,-74.5 339.5,-157.5\" stroke=\"black\"/>\n",
       "<text font-family=\"Times New Roman,serif\" font-size=\"14.00\" text-anchor=\"middle\" x=\"273\" y=\"-142.3\">cleaning &lt;= 0.01</text>\n",
       "<text font-family=\"Times New Roman,serif\" font-size=\"14.00\" text-anchor=\"middle\" x=\"273\" y=\"-127.3\">entropy = 0.626</text>\n",
       "<text font-family=\"Times New Roman,serif\" font-size=\"14.00\" text-anchor=\"middle\" x=\"273\" y=\"-112.3\">samples = 970</text>\n",
       "<text font-family=\"Times New Roman,serif\" font-size=\"14.00\" text-anchor=\"middle\" x=\"273\" y=\"-97.3\">value = [152, 818]</text>\n",
       "<text font-family=\"Times New Roman,serif\" font-size=\"14.00\" text-anchor=\"middle\" x=\"273\" y=\"-82.3\">class = Construction</text>\n",
       "</g>\n",
       "<!-- 0&#45;&gt;4 -->\n",
       "<g class=\"edge\" id=\"edge4\"><title>0-&gt;4</title>\n",
       "<path d=\"M158.094,-145.663C170.71,-142.378 183.753,-138.981 196.311,-135.711\" fill=\"none\" stroke=\"black\"/>\n",
       "<polygon fill=\"black\" points=\"197.465,-139.027 206.26,-133.12 195.701,-132.253 197.465,-139.027\" stroke=\"black\"/>\n",
       "<text font-family=\"Times New Roman,serif\" font-size=\"14.00\" text-anchor=\"middle\" x=\"184.698\" y=\"-116.768\">False</text>\n",
       "</g>\n",
       "<!-- 2 -->\n",
       "<g class=\"node\" id=\"node3\"><title>2</title>\n",
       "<polygon fill=\"#e58139\" fill-opacity=\"0.690196\" points=\"546,-330 388,-330 388,-262 546,-262 546,-330\" stroke=\"black\"/>\n",
       "<text font-family=\"Times New Roman,serif\" font-size=\"14.00\" text-anchor=\"middle\" x=\"467\" y=\"-314.8\">entropy = 0.789</text>\n",
       "<text font-family=\"Times New Roman,serif\" font-size=\"14.00\" text-anchor=\"middle\" x=\"467\" y=\"-299.8\">samples = 6092</text>\n",
       "<text font-family=\"Times New Roman,serif\" font-size=\"14.00\" text-anchor=\"middle\" x=\"467\" y=\"-284.8\">value = [4651, 1441]</text>\n",
       "<text font-family=\"Times New Roman,serif\" font-size=\"14.00\" text-anchor=\"middle\" x=\"467\" y=\"-269.8\">class = Not Construction</text>\n",
       "</g>\n",
       "<!-- 1&#45;&gt;2 -->\n",
       "<g class=\"edge\" id=\"edge2\"><title>1-&gt;2</title>\n",
       "<path d=\"M352.094,-249.132C360.785,-252.709 369.68,-256.368 378.479,-259.989\" fill=\"none\" stroke=\"black\"/>\n",
       "<polygon fill=\"black\" points=\"377.396,-263.328 387.975,-263.896 380.059,-256.854 377.396,-263.328\" stroke=\"black\"/>\n",
       "</g>\n",
       "<!-- 3 -->\n",
       "<g class=\"node\" id=\"node4\"><title>3</title>\n",
       "<polygon fill=\"#399de5\" fill-opacity=\"0.800000\" points=\"533.5,-244 400.5,-244 400.5,-176 533.5,-176 533.5,-244\" stroke=\"black\"/>\n",
       "<text font-family=\"Times New Roman,serif\" font-size=\"14.00\" text-anchor=\"middle\" x=\"467\" y=\"-228.8\">entropy = 0.65</text>\n",
       "<text font-family=\"Times New Roman,serif\" font-size=\"14.00\" text-anchor=\"middle\" x=\"467\" y=\"-213.8\">samples = 438</text>\n",
       "<text font-family=\"Times New Roman,serif\" font-size=\"14.00\" text-anchor=\"middle\" x=\"467\" y=\"-198.8\">value = [73, 365]</text>\n",
       "<text font-family=\"Times New Roman,serif\" font-size=\"14.00\" text-anchor=\"middle\" x=\"467\" y=\"-183.8\">class = Construction</text>\n",
       "</g>\n",
       "<!-- 1&#45;&gt;3 -->\n",
       "<g class=\"edge\" id=\"edge3\"><title>1-&gt;3</title>\n",
       "<path d=\"M352.094,-214.153C364.585,-213.697 377.495,-213.227 389.938,-212.773\" fill=\"none\" stroke=\"black\"/>\n",
       "<polygon fill=\"black\" points=\"390.394,-216.259 400.26,-212.397 390.139,-209.264 390.394,-216.259\" stroke=\"black\"/>\n",
       "</g>\n",
       "<!-- 5 -->\n",
       "<g class=\"node\" id=\"node6\"><title>5</title>\n",
       "<polygon fill=\"#399de5\" fill-opacity=\"0.862745\" points=\"533.5,-154 400.5,-154 400.5,-86 533.5,-86 533.5,-154\" stroke=\"black\"/>\n",
       "<text font-family=\"Times New Roman,serif\" font-size=\"14.00\" text-anchor=\"middle\" x=\"467\" y=\"-138.8\">entropy = 0.533</text>\n",
       "<text font-family=\"Times New Roman,serif\" font-size=\"14.00\" text-anchor=\"middle\" x=\"467\" y=\"-123.8\">samples = 914</text>\n",
       "<text font-family=\"Times New Roman,serif\" font-size=\"14.00\" text-anchor=\"middle\" x=\"467\" y=\"-108.8\">value = [111, 803]</text>\n",
       "<text font-family=\"Times New Roman,serif\" font-size=\"14.00\" text-anchor=\"middle\" x=\"467\" y=\"-93.8\">class = Construction</text>\n",
       "</g>\n",
       "<!-- 4&#45;&gt;5 -->\n",
       "<g class=\"edge\" id=\"edge5\"><title>4-&gt;5</title>\n",
       "<path d=\"M339.539,-117.365C355.822,-117.705 373.41,-118.071 390.142,-118.42\" fill=\"none\" stroke=\"black\"/>\n",
       "<polygon fill=\"black\" points=\"390.36,-121.925 400.431,-118.634 390.506,-114.926 390.36,-121.925\" stroke=\"black\"/>\n",
       "</g>\n",
       "<!-- 6 -->\n",
       "<g class=\"node\" id=\"node7\"><title>6</title>\n",
       "<polygon fill=\"#e58139\" fill-opacity=\"0.635294\" points=\"546,-68 388,-68 388,-0 546,-0 546,-68\" stroke=\"black\"/>\n",
       "<text font-family=\"Times New Roman,serif\" font-size=\"14.00\" text-anchor=\"middle\" x=\"467\" y=\"-52.8\">entropy = 0.838</text>\n",
       "<text font-family=\"Times New Roman,serif\" font-size=\"14.00\" text-anchor=\"middle\" x=\"467\" y=\"-37.8\">samples = 56</text>\n",
       "<text font-family=\"Times New Roman,serif\" font-size=\"14.00\" text-anchor=\"middle\" x=\"467\" y=\"-22.8\">value = [41, 15]</text>\n",
       "<text font-family=\"Times New Roman,serif\" font-size=\"14.00\" text-anchor=\"middle\" x=\"467\" y=\"-7.8\">class = Not Construction</text>\n",
       "</g>\n",
       "<!-- 4&#45;&gt;6 -->\n",
       "<g class=\"edge\" id=\"edge6\"><title>4-&gt;6</title>\n",
       "<path d=\"M339.539,-88.0096C352.039,-82.6708 365.309,-77.0037 378.37,-71.4255\" fill=\"none\" stroke=\"black\"/>\n",
       "<polygon fill=\"black\" points=\"380.008,-74.5318 387.829,-67.3853 377.258,-68.0943 380.008,-74.5318\" stroke=\"black\"/>\n",
       "</g>\n",
       "</g>\n",
       "</svg>"
      ],
      "text/plain": [
       "<IPython.core.display.SVG object>"
      ]
     },
     "execution_count": 20,
     "metadata": {},
     "output_type": "execute_result"
    }
   ],
   "source": [
    "# Go deeper to a nother split\n",
    "clf = TreeModel(max_depth=2, criterion='entropy').fit(X_train, y_train)\n",
    "graph = Source(export_graphviz(clf, out_file=None, feature_names=features, filled=True, rotate=True,\n",
    "                               class_names=['Not Construction', 'Construction']))\n",
    "SVG(graph.pipe(format='svg'))"
   ]
  },
  {
   "cell_type": "markdown",
   "metadata": {},
   "source": [
    "<span style=\"color:green\"><font size=4>\n",
    "The next split we are splitting on \"contractor\" and \"cleaning\". In the top split if \"contractor\" is important then it is most likely construction. In the bottom split if \"cleaning\" is important it is most likely not construction."
   ]
  },
  {
   "cell_type": "code",
   "execution_count": 21,
   "metadata": {},
   "outputs": [
    {
     "data": {
      "image/svg+xml": [
       "<svg height=\"678pt\" viewBox=\"0.00 0.00 748.00 678.00\" width=\"748pt\" xmlns=\"http://www.w3.org/2000/svg\" xmlns:xlink=\"http://www.w3.org/1999/xlink\">\n",
       "<g class=\"graph\" id=\"graph0\" transform=\"scale(1 1) rotate(0) translate(4 674)\">\n",
       "<title>Tree</title>\n",
       "<polygon fill=\"white\" points=\"-4,4 -4,-674 744,-674 744,4 -4,4\" stroke=\"none\"/>\n",
       "<!-- 0 -->\n",
       "<g class=\"node\" id=\"node1\"><title>0</title>\n",
       "<polygon fill=\"#e58139\" fill-opacity=\"0.462745\" points=\"158,-375.5 0,-375.5 0,-292.5 158,-292.5 158,-375.5\" stroke=\"black\"/>\n",
       "<text font-family=\"Times New Roman,serif\" font-size=\"14.00\" text-anchor=\"middle\" x=\"79\" y=\"-360.3\">residential &lt;= 0.026</text>\n",
       "<text font-family=\"Times New Roman,serif\" font-size=\"14.00\" text-anchor=\"middle\" x=\"79\" y=\"-345.3\">entropy = 0.934</text>\n",
       "<text font-family=\"Times New Roman,serif\" font-size=\"14.00\" text-anchor=\"middle\" x=\"79\" y=\"-330.3\">samples = 7500</text>\n",
       "<text font-family=\"Times New Roman,serif\" font-size=\"14.00\" text-anchor=\"middle\" x=\"79\" y=\"-315.3\">value = [4876, 2624]</text>\n",
       "<text font-family=\"Times New Roman,serif\" font-size=\"14.00\" text-anchor=\"middle\" x=\"79\" y=\"-300.3\">class = Not Construction</text>\n",
       "</g>\n",
       "<!-- 1 -->\n",
       "<g class=\"node\" id=\"node2\"><title>1</title>\n",
       "<polygon fill=\"#e58139\" fill-opacity=\"0.619608\" points=\"352,-440.5 194,-440.5 194,-357.5 352,-357.5 352,-440.5\" stroke=\"black\"/>\n",
       "<text font-family=\"Times New Roman,serif\" font-size=\"14.00\" text-anchor=\"middle\" x=\"273\" y=\"-425.3\">contractor &lt;= 0.048</text>\n",
       "<text font-family=\"Times New Roman,serif\" font-size=\"14.00\" text-anchor=\"middle\" x=\"273\" y=\"-410.3\">entropy = 0.851</text>\n",
       "<text font-family=\"Times New Roman,serif\" font-size=\"14.00\" text-anchor=\"middle\" x=\"273\" y=\"-395.3\">samples = 6530</text>\n",
       "<text font-family=\"Times New Roman,serif\" font-size=\"14.00\" text-anchor=\"middle\" x=\"273\" y=\"-380.3\">value = [4724, 1806]</text>\n",
       "<text font-family=\"Times New Roman,serif\" font-size=\"14.00\" text-anchor=\"middle\" x=\"273\" y=\"-365.3\">class = Not Construction</text>\n",
       "</g>\n",
       "<!-- 0&#45;&gt;1 -->\n",
       "<g class=\"edge\" id=\"edge1\"><title>0-&gt;1</title>\n",
       "<path d=\"M158.094,-360.438C166.785,-363.381 175.68,-366.392 184.479,-369.371\" fill=\"none\" stroke=\"black\"/>\n",
       "<polygon fill=\"black\" points=\"183.381,-372.694 193.975,-372.585 185.626,-366.064 183.381,-372.694\" stroke=\"black\"/>\n",
       "<text font-family=\"Times New Roman,serif\" font-size=\"14.00\" text-anchor=\"middle\" x=\"171.563\" y=\"-379.961\">True</text>\n",
       "</g>\n",
       "<!-- 8 -->\n",
       "<g class=\"node\" id=\"node9\"><title>8</title>\n",
       "<polygon fill=\"#399de5\" fill-opacity=\"0.815686\" points=\"339.5,-311.5 206.5,-311.5 206.5,-228.5 339.5,-228.5 339.5,-311.5\" stroke=\"black\"/>\n",
       "<text font-family=\"Times New Roman,serif\" font-size=\"14.00\" text-anchor=\"middle\" x=\"273\" y=\"-296.3\">cleaning &lt;= 0.01</text>\n",
       "<text font-family=\"Times New Roman,serif\" font-size=\"14.00\" text-anchor=\"middle\" x=\"273\" y=\"-281.3\">entropy = 0.626</text>\n",
       "<text font-family=\"Times New Roman,serif\" font-size=\"14.00\" text-anchor=\"middle\" x=\"273\" y=\"-266.3\">samples = 970</text>\n",
       "<text font-family=\"Times New Roman,serif\" font-size=\"14.00\" text-anchor=\"middle\" x=\"273\" y=\"-251.3\">value = [152, 818]</text>\n",
       "<text font-family=\"Times New Roman,serif\" font-size=\"14.00\" text-anchor=\"middle\" x=\"273\" y=\"-236.3\">class = Construction</text>\n",
       "</g>\n",
       "<!-- 0&#45;&gt;8 -->\n",
       "<g class=\"edge\" id=\"edge8\"><title>0-&gt;8</title>\n",
       "<path d=\"M158.094,-307.969C170.835,-303.722 184.012,-299.329 196.684,-295.105\" fill=\"none\" stroke=\"black\"/>\n",
       "<polygon fill=\"black\" points=\"197.88,-298.396 206.26,-291.913 195.667,-291.755 197.88,-298.396\" stroke=\"black\"/>\n",
       "<text font-family=\"Times New Roman,serif\" font-size=\"14.00\" text-anchor=\"middle\" x=\"183.9\" y=\"-277.033\">False</text>\n",
       "</g>\n",
       "<!-- 2 -->\n",
       "<g class=\"node\" id=\"node3\"><title>2</title>\n",
       "<polygon fill=\"#e58139\" fill-opacity=\"0.690196\" points=\"546,-591.5 388,-591.5 388,-508.5 546,-508.5 546,-591.5\" stroke=\"black\"/>\n",
       "<text font-family=\"Times New Roman,serif\" font-size=\"14.00\" text-anchor=\"middle\" x=\"467\" y=\"-576.3\">installation &lt;= 0.026</text>\n",
       "<text font-family=\"Times New Roman,serif\" font-size=\"14.00\" text-anchor=\"middle\" x=\"467\" y=\"-561.3\">entropy = 0.789</text>\n",
       "<text font-family=\"Times New Roman,serif\" font-size=\"14.00\" text-anchor=\"middle\" x=\"467\" y=\"-546.3\">samples = 6092</text>\n",
       "<text font-family=\"Times New Roman,serif\" font-size=\"14.00\" text-anchor=\"middle\" x=\"467\" y=\"-531.3\">value = [4651, 1441]</text>\n",
       "<text font-family=\"Times New Roman,serif\" font-size=\"14.00\" text-anchor=\"middle\" x=\"467\" y=\"-516.3\">class = Not Construction</text>\n",
       "</g>\n",
       "<!-- 1&#45;&gt;2 -->\n",
       "<g class=\"edge\" id=\"edge2\"><title>1-&gt;2</title>\n",
       "<path d=\"M326.973,-440.661C351.211,-459.724 380.064,-482.415 405.185,-502.172\" fill=\"none\" stroke=\"black\"/>\n",
       "<polygon fill=\"black\" points=\"403.176,-505.044 413.2,-508.475 407.503,-499.542 403.176,-505.044\" stroke=\"black\"/>\n",
       "</g>\n",
       "<!-- 5 -->\n",
       "<g class=\"node\" id=\"node6\"><title>5</title>\n",
       "<polygon fill=\"#399de5\" fill-opacity=\"0.800000\" points=\"533.5,-440.5 400.5,-440.5 400.5,-357.5 533.5,-357.5 533.5,-440.5\" stroke=\"black\"/>\n",
       "<text font-family=\"Times New Roman,serif\" font-size=\"14.00\" text-anchor=\"middle\" x=\"467\" y=\"-425.3\">landscape &lt;= 0.084</text>\n",
       "<text font-family=\"Times New Roman,serif\" font-size=\"14.00\" text-anchor=\"middle\" x=\"467\" y=\"-410.3\">entropy = 0.65</text>\n",
       "<text font-family=\"Times New Roman,serif\" font-size=\"14.00\" text-anchor=\"middle\" x=\"467\" y=\"-395.3\">samples = 438</text>\n",
       "<text font-family=\"Times New Roman,serif\" font-size=\"14.00\" text-anchor=\"middle\" x=\"467\" y=\"-380.3\">value = [73, 365]</text>\n",
       "<text font-family=\"Times New Roman,serif\" font-size=\"14.00\" text-anchor=\"middle\" x=\"467\" y=\"-365.3\">class = Construction</text>\n",
       "</g>\n",
       "<!-- 1&#45;&gt;5 -->\n",
       "<g class=\"edge\" id=\"edge5\"><title>1-&gt;5</title>\n",
       "<path d=\"M352.094,-399C364.585,-399 377.495,-399 389.938,-399\" fill=\"none\" stroke=\"black\"/>\n",
       "<polygon fill=\"black\" points=\"390.26,-402.5 400.26,-399 390.26,-395.5 390.26,-402.5\" stroke=\"black\"/>\n",
       "</g>\n",
       "<!-- 3 -->\n",
       "<g class=\"node\" id=\"node4\"><title>3</title>\n",
       "<polygon fill=\"#e58139\" fill-opacity=\"0.737255\" points=\"740,-670 582,-670 582,-602 740,-602 740,-670\" stroke=\"black\"/>\n",
       "<text font-family=\"Times New Roman,serif\" font-size=\"14.00\" text-anchor=\"middle\" x=\"661\" y=\"-654.8\">entropy = 0.74</text>\n",
       "<text font-family=\"Times New Roman,serif\" font-size=\"14.00\" text-anchor=\"middle\" x=\"661\" y=\"-639.8\">samples = 5740</text>\n",
       "<text font-family=\"Times New Roman,serif\" font-size=\"14.00\" text-anchor=\"middle\" x=\"661\" y=\"-624.8\">value = [4540, 1200]</text>\n",
       "<text font-family=\"Times New Roman,serif\" font-size=\"14.00\" text-anchor=\"middle\" x=\"661\" y=\"-609.8\">class = Not Construction</text>\n",
       "</g>\n",
       "<!-- 2&#45;&gt;3 -->\n",
       "<g class=\"edge\" id=\"edge3\"><title>2-&gt;3</title>\n",
       "<path d=\"M546.094,-584.979C555.438,-589.165 565.016,-593.455 574.458,-597.684\" fill=\"none\" stroke=\"black\"/>\n",
       "<polygon fill=\"black\" points=\"573.284,-600.993 583.841,-601.887 576.145,-594.605 573.284,-600.993\" stroke=\"black\"/>\n",
       "</g>\n",
       "<!-- 4 -->\n",
       "<g class=\"node\" id=\"node5\"><title>4</title>\n",
       "<polygon fill=\"#399de5\" fill-opacity=\"0.541176\" points=\"727.5,-584 594.5,-584 594.5,-516 727.5,-516 727.5,-584\" stroke=\"black\"/>\n",
       "<text font-family=\"Times New Roman,serif\" font-size=\"14.00\" text-anchor=\"middle\" x=\"661\" y=\"-568.8\">entropy = 0.899</text>\n",
       "<text font-family=\"Times New Roman,serif\" font-size=\"14.00\" text-anchor=\"middle\" x=\"661\" y=\"-553.8\">samples = 352</text>\n",
       "<text font-family=\"Times New Roman,serif\" font-size=\"14.00\" text-anchor=\"middle\" x=\"661\" y=\"-538.8\">value = [111, 241]</text>\n",
       "<text font-family=\"Times New Roman,serif\" font-size=\"14.00\" text-anchor=\"middle\" x=\"661\" y=\"-523.8\">class = Construction</text>\n",
       "</g>\n",
       "<!-- 2&#45;&gt;4 -->\n",
       "<g class=\"edge\" id=\"edge4\"><title>2-&gt;4</title>\n",
       "<path d=\"M546.094,-550C558.585,-550 571.495,-550 583.938,-550\" fill=\"none\" stroke=\"black\"/>\n",
       "<polygon fill=\"black\" points=\"584.26,-553.5 594.26,-550 584.26,-546.5 584.26,-553.5\" stroke=\"black\"/>\n",
       "</g>\n",
       "<!-- 6 -->\n",
       "<g class=\"node\" id=\"node7\"><title>6</title>\n",
       "<polygon fill=\"#399de5\" fill-opacity=\"0.839216\" points=\"727.5,-498 594.5,-498 594.5,-430 727.5,-430 727.5,-498\" stroke=\"black\"/>\n",
       "<text font-family=\"Times New Roman,serif\" font-size=\"14.00\" text-anchor=\"middle\" x=\"661\" y=\"-482.8\">entropy = 0.577</text>\n",
       "<text font-family=\"Times New Roman,serif\" font-size=\"14.00\" text-anchor=\"middle\" x=\"661\" y=\"-467.8\">samples = 422</text>\n",
       "<text font-family=\"Times New Roman,serif\" font-size=\"14.00\" text-anchor=\"middle\" x=\"661\" y=\"-452.8\">value = [58, 364]</text>\n",
       "<text font-family=\"Times New Roman,serif\" font-size=\"14.00\" text-anchor=\"middle\" x=\"661\" y=\"-437.8\">class = Construction</text>\n",
       "</g>\n",
       "<!-- 5&#45;&gt;6 -->\n",
       "<g class=\"edge\" id=\"edge6\"><title>5-&gt;6</title>\n",
       "<path d=\"M533.539,-421.188C549.975,-426.752 567.741,-432.767 584.616,-438.479\" fill=\"none\" stroke=\"black\"/>\n",
       "<polygon fill=\"black\" points=\"583.837,-441.911 594.431,-441.802 586.082,-435.28 583.837,-441.911\" stroke=\"black\"/>\n",
       "</g>\n",
       "<!-- 7 -->\n",
       "<g class=\"node\" id=\"node8\"><title>7</title>\n",
       "<polygon fill=\"#e58139\" fill-opacity=\"0.933333\" points=\"740,-412 582,-412 582,-344 740,-344 740,-412\" stroke=\"black\"/>\n",
       "<text font-family=\"Times New Roman,serif\" font-size=\"14.00\" text-anchor=\"middle\" x=\"661\" y=\"-396.8\">entropy = 0.337</text>\n",
       "<text font-family=\"Times New Roman,serif\" font-size=\"14.00\" text-anchor=\"middle\" x=\"661\" y=\"-381.8\">samples = 16</text>\n",
       "<text font-family=\"Times New Roman,serif\" font-size=\"14.00\" text-anchor=\"middle\" x=\"661\" y=\"-366.8\">value = [15, 1]</text>\n",
       "<text font-family=\"Times New Roman,serif\" font-size=\"14.00\" text-anchor=\"middle\" x=\"661\" y=\"-351.8\">class = Not Construction</text>\n",
       "</g>\n",
       "<!-- 5&#45;&gt;7 -->\n",
       "<g class=\"edge\" id=\"edge7\"><title>5-&gt;7</title>\n",
       "<path d=\"M533.539,-391.832C545.796,-390.491 558.793,-389.069 571.609,-387.668\" fill=\"none\" stroke=\"black\"/>\n",
       "<polygon fill=\"black\" points=\"572.269,-391.117 581.829,-386.55 571.508,-384.158 572.269,-391.117\" stroke=\"black\"/>\n",
       "</g>\n",
       "<!-- 9 -->\n",
       "<g class=\"node\" id=\"node10\"><title>9</title>\n",
       "<polygon fill=\"#399de5\" fill-opacity=\"0.862745\" points=\"533.5,-311.5 400.5,-311.5 400.5,-228.5 533.5,-228.5 533.5,-311.5\" stroke=\"black\"/>\n",
       "<text font-family=\"Times New Roman,serif\" font-size=\"14.00\" text-anchor=\"middle\" x=\"467\" y=\"-296.3\">lawn &lt;= 0.025</text>\n",
       "<text font-family=\"Times New Roman,serif\" font-size=\"14.00\" text-anchor=\"middle\" x=\"467\" y=\"-281.3\">entropy = 0.533</text>\n",
       "<text font-family=\"Times New Roman,serif\" font-size=\"14.00\" text-anchor=\"middle\" x=\"467\" y=\"-266.3\">samples = 914</text>\n",
       "<text font-family=\"Times New Roman,serif\" font-size=\"14.00\" text-anchor=\"middle\" x=\"467\" y=\"-251.3\">value = [111, 803]</text>\n",
       "<text font-family=\"Times New Roman,serif\" font-size=\"14.00\" text-anchor=\"middle\" x=\"467\" y=\"-236.3\">class = Construction</text>\n",
       "</g>\n",
       "<!-- 8&#45;&gt;9 -->\n",
       "<g class=\"edge\" id=\"edge9\"><title>8-&gt;9</title>\n",
       "<path d=\"M339.539,-270C355.822,-270 373.41,-270 390.142,-270\" fill=\"none\" stroke=\"black\"/>\n",
       "<polygon fill=\"black\" points=\"390.431,-273.5 400.431,-270 390.431,-266.5 390.431,-273.5\" stroke=\"black\"/>\n",
       "</g>\n",
       "<!-- 12 -->\n",
       "<g class=\"node\" id=\"node13\"><title>12</title>\n",
       "<polygon fill=\"#e58139\" fill-opacity=\"0.635294\" points=\"546,-161.5 388,-161.5 388,-78.5 546,-78.5 546,-161.5\" stroke=\"black\"/>\n",
       "<text font-family=\"Times New Roman,serif\" font-size=\"14.00\" text-anchor=\"middle\" x=\"467\" y=\"-146.3\">framing &lt;= 0.032</text>\n",
       "<text font-family=\"Times New Roman,serif\" font-size=\"14.00\" text-anchor=\"middle\" x=\"467\" y=\"-131.3\">entropy = 0.838</text>\n",
       "<text font-family=\"Times New Roman,serif\" font-size=\"14.00\" text-anchor=\"middle\" x=\"467\" y=\"-116.3\">samples = 56</text>\n",
       "<text font-family=\"Times New Roman,serif\" font-size=\"14.00\" text-anchor=\"middle\" x=\"467\" y=\"-101.3\">value = [41, 15]</text>\n",
       "<text font-family=\"Times New Roman,serif\" font-size=\"14.00\" text-anchor=\"middle\" x=\"467\" y=\"-86.3\">class = Not Construction</text>\n",
       "</g>\n",
       "<!-- 8&#45;&gt;12 -->\n",
       "<g class=\"edge\" id=\"edge12\"><title>8-&gt;12</title>\n",
       "<path d=\"M327.228,-228.416C351.262,-209.639 379.791,-187.35 404.714,-167.88\" fill=\"none\" stroke=\"black\"/>\n",
       "<polygon fill=\"black\" points=\"406.943,-170.58 412.669,-161.665 402.634,-165.063 406.943,-170.58\" stroke=\"black\"/>\n",
       "</g>\n",
       "<!-- 10 -->\n",
       "<g class=\"node\" id=\"node11\"><title>10</title>\n",
       "<polygon fill=\"#399de5\" fill-opacity=\"0.886275\" points=\"727.5,-326 594.5,-326 594.5,-258 727.5,-258 727.5,-326\" stroke=\"black\"/>\n",
       "<text font-family=\"Times New Roman,serif\" font-size=\"14.00\" text-anchor=\"middle\" x=\"661\" y=\"-310.8\">entropy = 0.479</text>\n",
       "<text font-family=\"Times New Roman,serif\" font-size=\"14.00\" text-anchor=\"middle\" x=\"661\" y=\"-295.8\">samples = 893</text>\n",
       "<text font-family=\"Times New Roman,serif\" font-size=\"14.00\" text-anchor=\"middle\" x=\"661\" y=\"-280.8\">value = [92, 801]</text>\n",
       "<text font-family=\"Times New Roman,serif\" font-size=\"14.00\" text-anchor=\"middle\" x=\"661\" y=\"-265.8\">class = Construction</text>\n",
       "</g>\n",
       "<!-- 9&#45;&gt;10 -->\n",
       "<g class=\"edge\" id=\"edge10\"><title>9-&gt;10</title>\n",
       "<path d=\"M533.539,-277.51C549.822,-279.375 567.41,-281.391 584.142,-283.308\" fill=\"none\" stroke=\"black\"/>\n",
       "<polygon fill=\"black\" points=\"584.098,-286.826 594.431,-284.487 584.895,-279.871 584.098,-286.826\" stroke=\"black\"/>\n",
       "</g>\n",
       "<!-- 11 -->\n",
       "<g class=\"node\" id=\"node12\"><title>11</title>\n",
       "<polygon fill=\"#e58139\" fill-opacity=\"0.894118\" points=\"740,-240 582,-240 582,-172 740,-172 740,-240\" stroke=\"black\"/>\n",
       "<text font-family=\"Times New Roman,serif\" font-size=\"14.00\" text-anchor=\"middle\" x=\"661\" y=\"-224.8\">entropy = 0.454</text>\n",
       "<text font-family=\"Times New Roman,serif\" font-size=\"14.00\" text-anchor=\"middle\" x=\"661\" y=\"-209.8\">samples = 21</text>\n",
       "<text font-family=\"Times New Roman,serif\" font-size=\"14.00\" text-anchor=\"middle\" x=\"661\" y=\"-194.8\">value = [19, 2]</text>\n",
       "<text font-family=\"Times New Roman,serif\" font-size=\"14.00\" text-anchor=\"middle\" x=\"661\" y=\"-179.8\">class = Not Construction</text>\n",
       "</g>\n",
       "<!-- 9&#45;&gt;11 -->\n",
       "<g class=\"edge\" id=\"edge11\"><title>9-&gt;11</title>\n",
       "<path d=\"M533.539,-248.154C545.918,-244.027 559.051,-239.65 571.989,-235.337\" fill=\"none\" stroke=\"black\"/>\n",
       "<polygon fill=\"black\" points=\"573.449,-238.54 581.829,-232.057 571.236,-231.899 573.449,-238.54\" stroke=\"black\"/>\n",
       "</g>\n",
       "<!-- 13 -->\n",
       "<g class=\"node\" id=\"node14\"><title>13</title>\n",
       "<polygon fill=\"#e58139\" fill-opacity=\"0.756863\" points=\"740,-154 582,-154 582,-86 740,-86 740,-154\" stroke=\"black\"/>\n",
       "<text font-family=\"Times New Roman,serif\" font-size=\"14.00\" text-anchor=\"middle\" x=\"661\" y=\"-138.8\">entropy = 0.714</text>\n",
       "<text font-family=\"Times New Roman,serif\" font-size=\"14.00\" text-anchor=\"middle\" x=\"661\" y=\"-123.8\">samples = 51</text>\n",
       "<text font-family=\"Times New Roman,serif\" font-size=\"14.00\" text-anchor=\"middle\" x=\"661\" y=\"-108.8\">value = [41, 10]</text>\n",
       "<text font-family=\"Times New Roman,serif\" font-size=\"14.00\" text-anchor=\"middle\" x=\"661\" y=\"-93.8\">class = Not Construction</text>\n",
       "</g>\n",
       "<!-- 12&#45;&gt;13 -->\n",
       "<g class=\"edge\" id=\"edge13\"><title>12-&gt;13</title>\n",
       "<path d=\"M546.094,-120C554.601,-120 563.302,-120 571.918,-120\" fill=\"none\" stroke=\"black\"/>\n",
       "<polygon fill=\"black\" points=\"571.975,-123.5 581.975,-120 571.975,-116.5 571.975,-123.5\" stroke=\"black\"/>\n",
       "</g>\n",
       "<!-- 14 -->\n",
       "<g class=\"node\" id=\"node15\"><title>14</title>\n",
       "<polygon fill=\"#399de5\" points=\"727.5,-68 594.5,-68 594.5,-0 727.5,-0 727.5,-68\" stroke=\"black\"/>\n",
       "<text font-family=\"Times New Roman,serif\" font-size=\"14.00\" text-anchor=\"middle\" x=\"661\" y=\"-52.8\">entropy = 0.0</text>\n",
       "<text font-family=\"Times New Roman,serif\" font-size=\"14.00\" text-anchor=\"middle\" x=\"661\" y=\"-37.8\">samples = 5</text>\n",
       "<text font-family=\"Times New Roman,serif\" font-size=\"14.00\" text-anchor=\"middle\" x=\"661\" y=\"-22.8\">value = [0, 5]</text>\n",
       "<text font-family=\"Times New Roman,serif\" font-size=\"14.00\" text-anchor=\"middle\" x=\"661\" y=\"-7.8\">class = Construction</text>\n",
       "</g>\n",
       "<!-- 12&#45;&gt;14 -->\n",
       "<g class=\"edge\" id=\"edge14\"><title>12-&gt;14</title>\n",
       "<path d=\"M546.094,-85.0205C558.959,-79.2578 572.27,-73.2958 585.056,-67.5685\" fill=\"none\" stroke=\"black\"/>\n",
       "<polygon fill=\"black\" points=\"586.565,-70.728 594.26,-63.4459 583.703,-64.3396 586.565,-70.728\" stroke=\"black\"/>\n",
       "</g>\n",
       "</g>\n",
       "</svg>"
      ],
      "text/plain": [
       "<IPython.core.display.SVG object>"
      ]
     },
     "execution_count": 21,
     "metadata": {},
     "output_type": "execute_result"
    }
   ],
   "source": [
    "# Now going to a third split, this is getting a bit large\n",
    "clf = TreeModel(max_depth=3, criterion='entropy').fit(X_train, y_train)\n",
    "graph = Source(export_graphviz(clf, out_file=None, feature_names=features, filled=True, rotate=True,\n",
    "                               class_names=['Not Construction', 'Construction']))\n",
    "SVG(graph.pipe(format='svg'))"
   ]
  },
  {
   "cell_type": "markdown",
   "metadata": {},
   "source": [
    "<span style=\"color:green\"><font size=4>\n",
    "Ok, this is already growing pretty large, but the words still seam reasonable\n",
    "</span>"
   ]
  },
  {
   "cell_type": "code",
   "execution_count": 22,
   "metadata": {},
   "outputs": [],
   "source": [
    "# No depth restrictions on this tree\n",
    "clf = TreeModel(criterion='entropy').fit(X_train, y_train)"
   ]
  },
  {
   "cell_type": "markdown",
   "metadata": {},
   "source": [
    "<a id='model_evaluate'></a>\n",
    "## Evaluating Your Model\n",
    "<span style=\"color:green\"><font size=4>\n",
    "OK, so we made a tree model, but now we need to see how good it is, and try to understand more about it. This takes many forms, the simplest one is to look at the accuracy of the model, but there are many metrics we could examine, accuracy is just the simplest.\n",
    "    $$accuracy = \\dfrac{correct}{total}$$\n",
    "</span>"
   ]
  },
  {
   "cell_type": "markdown",
   "metadata": {},
   "source": [
    "#### Accuracy of Model"
   ]
  },
  {
   "cell_type": "code",
   "execution_count": 23,
   "metadata": {},
   "outputs": [
    {
     "name": "stdout",
     "output_type": "stream",
     "text": [
      "Training Data Accuracy: 99.25%\n"
     ]
    }
   ],
   "source": [
    "from sklearn.metrics import accuracy_score\n",
    "trained_predictions = clf.predict(X_train)\n",
    "acc_train = accuracy_score(y_train, trained_predictions)\n",
    "print(f\"Training Data Accuracy: {acc_train*100:0.2f}%\")"
   ]
  },
  {
   "cell_type": "markdown",
   "metadata": {},
   "source": [
    "<span style=\"color:green\"><font size=4>\n",
    "Perfect Right? Well not so much. Trees are great at essentially going very deep and bringing each node to purity, so for the training data they essentially just memorize it. Even a simple linear model if made complex enough will be able to fit all of the data it sees. Remember that piece of data we didn't let the tree see though? Lets see how it does on that.\n",
    "</span>"
   ]
  },
  {
   "cell_type": "code",
   "execution_count": 24,
   "metadata": {},
   "outputs": [
    {
     "name": "stdout",
     "output_type": "stream",
     "text": [
      "Testing Data Accuracy: 88.68%\n"
     ]
    }
   ],
   "source": [
    "untrained_predictions = clf.predict(X_test)\n",
    "acc_test = accuracy_score(y_test, untrained_predictions)\n",
    "print(f\"Testing Data Accuracy: {acc_test*100:0.2f}%\")"
   ]
  },
  {
   "cell_type": "markdown",
   "metadata": {},
   "source": [
    "<span style=\"color:green\"><font size=4>\n",
    "This still is not too bad consider a fairly simple model. But it is also important to remember that we had a skewed data set so we are not getting the whole picture, lets see if we can see a little more of the picture.\n",
    "</span>"
   ]
  },
  {
   "cell_type": "markdown",
   "metadata": {},
   "source": [
    "#### Confusion Matrix of Model"
   ]
  },
  {
   "cell_type": "code",
   "execution_count": 25,
   "metadata": {},
   "outputs": [],
   "source": [
    "# Use a nice plot found online - sklearn documentation has lots of this stuff\n",
    "from sklearn.metrics import confusion_matrix\n",
    "import itertools\n",
    "def plot_confusion_matrix(cm, classes, cmap=plt.cm.Blues):\n",
    "    \"\"\"\n",
    "    Taken From http://scikit-learn.org/stable/auto_examples/model_selection/plot_confusion_matrix.html#sphx-glr-auto-examples-\n",
    "               model-selection-plot-confusion-matrix-py    This function prints and plots the confusion matrix.\n",
    "    Normalization can be applied by setting `normalize=True`.\n",
    "    \"\"\"\n",
    "    plt.imshow(cm, interpolation='nearest', cmap=cmap)\n",
    "    plt.title('Confusion matrix')\n",
    "    plt.colorbar()\n",
    "    tick_marks = np.arange(len(classes))\n",
    "    plt.xticks(tick_marks, classes, rotation=45)\n",
    "    plt.yticks(tick_marks, classes)\n",
    "\n",
    "    thresh = cm.max() / 2.\n",
    "    for i, j in itertools.product(range(cm.shape[0]), range(cm.shape[1])):\n",
    "        plt.text(j, i, format(cm[i, j], 'd'),\n",
    "                 horizontalalignment=\"center\",\n",
    "                 color=\"white\" if cm[i, j] > thresh else \"black\")\n",
    "\n",
    "    plt.tight_layout()\n",
    "    plt.ylabel('True label')\n",
    "    plt.xlabel('Predicted label')"
   ]
  },
  {
   "cell_type": "code",
   "execution_count": 26,
   "metadata": {},
   "outputs": [
    {
     "data": {
      "image/png": "[encoded data removed]",
      "text/plain": [
       "<Figure size 432x432 with 2 Axes>"
      ]
     },
     "metadata": {},
     "output_type": "display_data"
    }
   ],
   "source": [
    "# Plot out resultant confusion matrix\n",
    "cm = confusion_matrix(y_test, untrained_predictions)\n",
    "fig, ax = plt.subplots(figsize=(6, 6))\n",
    "plot_confusion_matrix(cm, ['not construction', 'construction'])"
   ]
  },
  {
   "cell_type": "markdown",
   "metadata": {},
   "source": [
    "<span style=\"color:green\"><font size=4>\n",
    "Here we can see where our model is getting the wrong predictions, it is missing both classes a bit, although as a percentage it is getting construction wrong more than non construction\n",
    "</span>"
   ]
  },
  {
   "cell_type": "markdown",
   "metadata": {},
   "source": [
    "#### What influenced our model?"
   ]
  },
  {
   "cell_type": "code",
   "execution_count": 27,
   "metadata": {},
   "outputs": [
    {
     "data": {
      "image/png": "[encoded data removed]",
      "text/plain": [
       "<Figure size 720x432 with 1 Axes>"
      ]
     },
     "metadata": {},
     "output_type": "display_data"
    }
   ],
   "source": [
    "term_importances = list(zip(clf.feature_importances_, vectorizer.vocabulary_))\n",
    "term_importances = sorted(term_importances, reverse=True)\n",
    "plt.subplots(figsize=(10, 6))\n",
    "plt.title(\"Relative Feature importances\")\n",
    "sns.barplot(y=[x[1] for x in term_importances[:15]], \n",
    "            x=[x[0] for x in term_importances[:15]],\n",
    "            orient='h');"
   ]
  },
  {
   "cell_type": "markdown",
   "metadata": {},
   "source": [
    "<span style=\"color:green\"><font size=4>\n",
    "According to our model these were the terms that resulted in the greatest purity increases, an exploration like this might make a little more sense if we are not dealing with text features. Something like this could be used to potentially prune the number of features going into the model to reduce its complexity a bit.\n",
    "</span>"
   ]
  },
  {
   "cell_type": "markdown",
   "metadata": {},
   "source": [
    "#### Exercise 5: Examine the least important features"
   ]
  },
  {
   "cell_type": "code",
   "execution_count": 28,
   "metadata": {},
   "outputs": [],
   "source": [
    "pass"
   ]
  },
  {
   "cell_type": "markdown",
   "metadata": {},
   "source": [
    "#### How deep is this un restricted tree?"
   ]
  },
  {
   "cell_type": "code",
   "execution_count": 29,
   "metadata": {},
   "outputs": [
    {
     "name": "stdout",
     "output_type": "stream",
     "text": [
      "Max depth of tree: 449 branches\n"
     ]
    }
   ],
   "source": [
    "max_depth = clf.tree_.max_depth\n",
    "print(f\"Max depth of tree: {max_depth} branches\")"
   ]
  },
  {
   "cell_type": "markdown",
   "metadata": {},
   "source": [
    "<span style=\"color:green\"><font size=4>\n",
    "That is a very deep tree, at some point it probably just fitting noise though, and can you imagine the tree diagram above. Maybe all this complexity isn't worth it.\n",
    "</span>"
   ]
  },
  {
   "cell_type": "markdown",
   "metadata": {},
   "source": [
    "<a id='overfitting'></a>\n",
    "## Model Overfitting"
   ]
  },
  {
   "cell_type": "markdown",
   "metadata": {},
   "source": [
    "<span style=\"color:green\"><font size=4>\n",
    "Our accuracy on the training data was 10% higher than that of the unseen testing data. This means that the model is fitting just to noise rather than a signal. Because of this it might not generalize as well to unseen data, and we have an overly complex model that might not be any better than a simpler one, potentially it could be worse. Lets take a quick look at this.\n",
    "</span>"
   ]
  },
  {
   "cell_type": "markdown",
   "metadata": {},
   "source": [
    "#### Iterate over all depths to see effect (Might not want to run this, will take quite a while)"
   ]
  },
  {
   "cell_type": "code",
   "execution_count": 30,
   "metadata": {},
   "outputs": [],
   "source": [
    "error_train = []\n",
    "error_test = []\n",
    "for depth in range(1, max_depth):\n",
    "    clf = TreeModel(max_depth=depth).fit(X_train, y_train)\n",
    "    clf_min = TreeModel(min_samples_leaf=depth).fit(X_train, y_train)\n",
    "    error_train.append(1 - accuracy_score(y_train, clf.predict(X_train)))\n",
    "    error_test.append(1 - accuracy_score(y_test, clf.predict(X_test)))"
   ]
  },
  {
   "cell_type": "code",
   "execution_count": 31,
   "metadata": {},
   "outputs": [
    {
     "data": {
      "image/png": "[encoded data removed]",
      "text/plain": [
       "<Figure size 864x432 with 2 Axes>"
      ]
     },
     "metadata": {},
     "output_type": "display_data"
    }
   ],
   "source": [
    "# Make a little area for these plots\n",
    "fig, ax = plt.subplots(1, 2, figsize=(12,6))\n",
    "\n",
    "# First plot - all data\n",
    "sns.tsplot(data=error_train, time=range(1, max_depth), condition='Training Data', ax=ax[0])\n",
    "sns.tsplot(data=error_test, time=range(1, max_depth), color=\"#e74c3c\", condition='Testing Data', \n",
    "           ax=ax[0])\n",
    "ax[0].axhline(y=min(error_test), color='k', ls=\"--\")\n",
    "ax[0].set_xlabel('Tree Depth')\n",
    "ax[0].set_ylabel('% Incorrect')\n",
    "\n",
    "# Second plot - zoom in\n",
    "sns.tsplot(data=error_train, time=range(1, max_depth), condition='Training Data', ax=ax[1])\n",
    "sns.tsplot(data=error_test, time=range(1, max_depth), color=\"#e74c3c\", condition='Testing Data', \n",
    "           ax=ax[1])\n",
    "ax[1].axhline(y=min(error_test), color='k', ls=\"--\")\n",
    "ax[1].set_xlabel('Tree Depth')\n",
    "ax[1].set_ylabel('% Incorrect')\n",
    "ax[1].set_xlim(0, 100)\n",
    "ax[1].set_ylim(0.05, 0.15);"
   ]
  },
  {
   "cell_type": "markdown",
   "metadata": {},
   "source": [
    "<span style=\"color:green\"><font size=4>\n",
    "So most of the complext model is in fact fitting noise, and makes the model do worse on data it has not seen before. So our final model should be the one that generalizes to data it has not seen, since this is how we will score the final kaggle model. These concepts, together called overfitting and the bias variance trade off are a very large topic, there is a link in the additional resources that has a deeper discussion on the topic</span>"
   ]
  },
  {
   "cell_type": "markdown",
   "metadata": {},
   "source": [
    "#### Make a final classifier"
   ]
  },
  {
   "cell_type": "code",
   "execution_count": 32,
   "metadata": {},
   "outputs": [
    {
     "name": "stdout",
     "output_type": "stream",
     "text": [
      "Min Error:  0.102\n",
      "Depth: 152\n"
     ]
    }
   ],
   "source": [
    "best_depth = np.argmin(error_test) + 1\n",
    "print(f\"Min Error: {min(error_test): 0.3f}\")\n",
    "print(f\"Depth: {best_depth}\")"
   ]
  },
  {
   "cell_type": "code",
   "execution_count": 33,
   "metadata": {
    "scrolled": true
   },
   "outputs": [],
   "source": [
    "# Make final model, note we only played with one of many tunable hyperparameters\n",
    "final_clf = TreeModel(max_depth=best_depth).fit(X_train, y_train)"
   ]
  },
  {
   "cell_type": "markdown",
   "metadata": {},
   "source": [
    "#### Experiment with your final classifier"
   ]
  },
  {
   "cell_type": "code",
   "execution_count": 34,
   "metadata": {},
   "outputs": [
    {
     "name": "stdout",
     "output_type": "stream",
     "text": [
      "DOCUMENT: 0\n",
      "ORIGINAL DOCUMENT:\n",
      "'I drive heavy wquipment to create homes'\n",
      "\n",
      "NON ZERO VECTOR VALUES (Most to Least Important):\n",
      "create:         0.634    heavy:          0.512    drive:          0.462    homes:          0.350    \n",
      "\n",
      "TERMS w/ ZERO VALUE: 12,050\n",
      "Sum of terms: 1.96\n",
      "\n",
      "There is a  100.00% chance you are construction\n"
     ]
    }
   ],
   "source": [
    "# Make a fake business descr\n",
    "desc = \"I drive heavy wquipment to create homes\"\n",
    "\n",
    "# Explore what your business would be transformed to\n",
    "my_business = pd.DataFrame([desc], columns=[\"desc\"])\n",
    "encoded = vectorizer.transform(my_business['desc'])\n",
    "summarize_doc_transformation(my_business, 0, vectorizer, encoded)\n",
    "\n",
    "# See the Final output\n",
    "not_construction, construction = final_clf.predict_proba(encoded)[0]\n",
    "print(f\"\\nThere is a {construction * 100: 0.2f}% chance you are construction\")"
   ]
  },
  {
   "cell_type": "markdown",
   "metadata": {},
   "source": [
    "<span style=\"color:green\"><font size=4>\n",
    "So, it is pretty easy to find pitfalls with our model. That is ok though, understanding its weaknesses is how we improve it. If you were to examine the whole tree of your final model it is pretty easy to see why it is failing, and also suggestive that this is not the best algorithm. Try tagging on the single word \"residential\" though and you get a different story.</span>"
   ]
  },
  {
   "cell_type": "markdown",
   "metadata": {},
   "source": [
    "<a id='kaggle_submission'></a>\n",
    "## Creating a kaggle submission"
   ]
  },
  {
   "cell_type": "markdown",
   "metadata": {},
   "source": [
    "Firstly you will need to grab the official datasets from the box account. There is a train_df.pkl and a test_df.pkl. Here we will just apply our model to the test_df.pkl to create what a kaggle file would look like, you will have to some adjusting when working on the real kaggle problem"
   ]
  },
  {
   "cell_type": "code",
   "execution_count": 41,
   "metadata": {},
   "outputs": [],
   "source": [
    "# load in the testing data\n",
    "test_data_location = 'data/test_df.pkl'\n",
    "with open(test_data_location, 'rb') as in_pickle:\n",
    "    test_df = pickle.load(in_pickle)"
   ]
  },
  {
   "cell_type": "code",
   "execution_count": 54,
   "metadata": {},
   "outputs": [],
   "source": [
    "# Pull of id for final submission\n",
    "final = test_df['id'].to_frame()\n",
    "\n",
    "# Add predictions to df\n",
    "encoded = vectorizer.transform(test_df['desc_of_operations'])\n",
    "final['pred_class'] = final_clf.predict(encoded)\n",
    "final.to_csv('data/kaggle_submission.csv', index=False)"
   ]
  },
  {
   "cell_type": "code",
   "execution_count": 58,
   "metadata": {},
   "outputs": [
    {
     "name": "stdout",
     "output_type": "stream",
     "text": [
      "id,pred_class\n",
      "996084,0\n",
      "893938,0\n",
      "893939,0\n",
      "996091,0\n",
      "886443,0\n",
      "940892,1\n",
      "942086,1\n",
      "993537,1\n",
      "993543,1\n"
     ]
    }
   ],
   "source": [
    "# note the ! this send command to shell, can be very helpful in notebooks\n",
    "! head -n 10 data/kaggle_submission.csv"
   ]
  },
  {
   "cell_type": "markdown",
   "metadata": {},
   "source": [
    "<a id='next'></a>\n",
    "## What to do next"
   ]
  },
  {
   "cell_type": "markdown",
   "metadata": {},
   "source": [
    "<span style=\"color:blue\"><font size=4>\n",
    "If you made it all the way through this then I thank you for taking the time, and I hope you learned something on the way. This is not the end though, this only touches on a tiny portion of topics realted to machine learning and text data. There are many more models to explore, they one presented in this tutorial is far from the best, but is simple to explain. If decisions treee interest you then maybe go explore random forests?. Other areas that you can explore would be how to choose hpyer paramters? Cross validation is not really discuessed here, but that is an area that is super important to any good model. </span>\n",
    "    \n",
    "<span style=\"color:blue\"><font size=4> \n",
    "If this tfidf approach presented here seems like it loses alot of information, you are correct, and maybe you want to explore word embeddings? and maybe even neural nets?</span>\n",
    "    \n",
    "<span style=\"color:blue\"><font size=4>\n",
    "There are many flaws in the above approach, it is not meant to be perfect but illistrative, but if you see problems and want to make improvements that would be great, and you might get a better model becuase of it.</span>\n",
    "    \n",
    "<span style=\"color:blue\"><font size=4>\n",
    "Any feedback is also greatly appreciated</span> \n",
    "    \n",
    "<span style=\"color:blue\"><font size=4>\n",
    "If you have not already done so head over the kaggle page and sign up, this will direct you where you can the full data sets and where to go for more resources</span> "
   ]
  },
  {
   "cell_type": "markdown",
   "metadata": {},
   "source": [
    "<a id='additional_resources'></a>\n",
    "## Additional Resources- Random readings about above stuff\n",
    "* Context managers: https://jeffknupp.com/blog/2016/03/07/python-with-context-managers/\n",
    "* Dataframes: https://www.tutorialspoint.com/python_pandas/python_pandas_dataframe.htm\n",
    "* Pickling: https://docs.python.org/3/library/pickle.html\n",
    "* Good Matplotlib Tutorial: https://www.labri.fr/perso/nrougier/teaching/matplotlib/matplotlib.html\n",
    "* Seaborn Documentation: https://seaborn.pydata.org/index.html\n",
    "* Jupyter tips if you liked jupyter: https://www.dataquest.io/blog/jupyter-notebook-tips-tricks-shortcuts/\n",
    "* Unerstanding Python String Formatting: https://dbader.org/blog/python-string-formatting\n",
    "* Understanding TFIDF: http://www.tfidf.com/\n",
    "* What are stop words?: https://en.wikipedia.org/wiki/Stop_words\n",
    "* What is stemming and lemming?: https://marcobonzanini.com/2015/01/26/stemming-lemmatisation-and-pos-tagging-with-python-and-nltk/\n",
    "* Official Documentation of SKlearn tfidf: http://scikit-learn.org/stable/modules/generated/sklearn.feature_extraction.text.TfidfVectorizer.html\n",
    "* Understanding Decision Trees: https://towardsdatascience.com/decision-trees-understanding-explainable-ai-620fc37e598d\n",
    "* Gini explanation: http://dni-institute.in/blogs/cart-decision-tree-gini-index-explained/\n",
    "* Bias variance Tradeoff: http://scott.fortmann-roe.com/docs/BiasVariance.html"
   ]
  },
  {
   "cell_type": "markdown",
   "metadata": {},
   "source": [
    "<a id='answers'></a>\n",
    "## Possible Solutions to Execises"
   ]
  },
  {
   "cell_type": "markdown",
   "metadata": {},
   "source": [
    "#### Exercise 1 Possible solution"
   ]
  },
  {
   "cell_type": "code",
   "execution_count": 45,
   "metadata": {},
   "outputs": [],
   "source": [
    "# in progress"
   ]
  },
  {
   "cell_type": "code",
   "execution_count": 46,
   "metadata": {},
   "outputs": [],
   "source": [
    "from string import punctuation"
   ]
  },
  {
   "cell_type": "code",
   "execution_count": null,
   "metadata": {},
   "outputs": [],
   "source": []
  }
 ],
 "metadata": {
  "kernelspec": {
   "display_name": "Python 3",
   "language": "python",
   "name": "python3"
  },
  "language_info": {
   "codemirror_mode": {
    "name": "ipython",
    "version": 3
   },
   "file_extension": ".py",
   "mimetype": "text/x-python",
   "name": "python",
   "nbconvert_exporter": "python",
   "pygments_lexer": "ipython3",
   "version": "3.6.5"
  }
 },
 "nbformat": 4,
 "nbformat_minor": 2
}
