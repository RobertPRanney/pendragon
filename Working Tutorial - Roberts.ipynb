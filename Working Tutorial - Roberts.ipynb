{
 "cells": [
  {
   "cell_type": "markdown",
   "metadata": {},
   "source": [
    "# Running Version of Tutorial"
   ]
  },
  {
   "cell_type": "code",
   "execution_count": 1,
   "metadata": {},
   "outputs": [],
   "source": [
    "import pickle\n",
    "import warnings\n",
    "\n",
    "import pandas as pd\n",
    "import matplotlib.pyplot as plt\n",
    "import seaborn as sns\n",
    "import numpy as np"
   ]
  },
  {
   "cell_type": "code",
   "execution_count": 2,
   "metadata": {},
   "outputs": [],
   "source": [
    "%matplotlib inline\n",
    "warnings.filterwarnings('ignore')"
   ]
  },
  {
   "cell_type": "code",
   "execution_count": 3,
   "metadata": {},
   "outputs": [],
   "source": [
    "DATA_SET = \"data/sample_training_descs.pkl\"\n",
    "RANDOM_SEED = 433"
   ]
  },
  {
   "cell_type": "code",
   "execution_count": 4,
   "metadata": {},
   "outputs": [
    {
     "data": {
      "text/html": [
       "<div>\n",
       "<style scoped>\n",
       "    .dataframe tbody tr th:only-of-type {\n",
       "        vertical-align: middle;\n",
       "    }\n",
       "\n",
       "    .dataframe tbody tr th {\n",
       "        vertical-align: top;\n",
       "    }\n",
       "\n",
       "    .dataframe thead th {\n",
       "        text-align: right;\n",
       "    }\n",
       "</style>\n",
       "<table border=\"1\" class=\"dataframe\">\n",
       "  <thead>\n",
       "    <tr style=\"text-align: right;\">\n",
       "      <th></th>\n",
       "      <th>id</th>\n",
       "      <th>bus_seq_num</th>\n",
       "      <th>target</th>\n",
       "      <th>desc</th>\n",
       "      <th>industry_group_id</th>\n",
       "      <th>construction_flag</th>\n",
       "    </tr>\n",
       "  </thead>\n",
       "  <tbody>\n",
       "    <tr>\n",
       "      <th>0</th>\n",
       "      <td>1000</td>\n",
       "      <td>1.0</td>\n",
       "      <td>0913</td>\n",
       "      <td>livestock operations</td>\n",
       "      <td>01</td>\n",
       "      <td>0</td>\n",
       "    </tr>\n",
       "    <tr>\n",
       "      <th>1</th>\n",
       "      <td>10000</td>\n",
       "      <td>1.0</td>\n",
       "      <td>9082</td>\n",
       "      <td>restaurant</td>\n",
       "      <td>36</td>\n",
       "      <td>0</td>\n",
       "    </tr>\n",
       "    <tr>\n",
       "      <th>2</th>\n",
       "      <td>1000004</td>\n",
       "      <td>1.0</td>\n",
       "      <td>5537</td>\n",
       "      <td>northern colorado air inc. and northern colora...</td>\n",
       "      <td>27</td>\n",
       "      <td>1</td>\n",
       "    </tr>\n",
       "    <tr>\n",
       "      <th>3</th>\n",
       "      <td>1000008</td>\n",
       "      <td>1.0</td>\n",
       "      <td>9083</td>\n",
       "      <td>fast-food chain serving chicken wings and fing...</td>\n",
       "      <td>36</td>\n",
       "      <td>0</td>\n",
       "    </tr>\n",
       "    <tr>\n",
       "      <th>4</th>\n",
       "      <td>1000009</td>\n",
       "      <td>1.0</td>\n",
       "      <td>9082</td>\n",
       "      <td>quay's restaurant group llc dba darcy's bistro...</td>\n",
       "      <td>36</td>\n",
       "      <td>0</td>\n",
       "    </tr>\n",
       "  </tbody>\n",
       "</table>\n",
       "</div>"
      ],
      "text/plain": [
       "        id  bus_seq_num target  \\\n",
       "0     1000          1.0   0913   \n",
       "1    10000          1.0   9082   \n",
       "2  1000004          1.0   5537   \n",
       "3  1000008          1.0   9083   \n",
       "4  1000009          1.0   9082   \n",
       "\n",
       "                                                desc industry_group_id  \\\n",
       "0                               livestock operations                01   \n",
       "1                                         restaurant                36   \n",
       "2  northern colorado air inc. and northern colora...                27   \n",
       "3  fast-food chain serving chicken wings and fing...                36   \n",
       "4  quay's restaurant group llc dba darcy's bistro...                36   \n",
       "\n",
       "  construction_flag  \n",
       "0                 0  \n",
       "1                 0  \n",
       "2                 1  \n",
       "3                 0  \n",
       "4                 0  "
      ]
     },
     "execution_count": 4,
     "metadata": {},
     "output_type": "execute_result"
    }
   ],
   "source": [
    "with open(DATA_SET, 'rb') as in_pickle:\n",
    "    data_df = pickle.load(in_pickle)\n",
    "\n",
    "data_df.head()"
   ]
  },
  {
   "cell_type": "code",
   "execution_count": 5,
   "metadata": {},
   "outputs": [
    {
     "name": "stdout",
     "output_type": "stream",
     "text": [
      "<class 'pandas.core.frame.DataFrame'>\n",
      "RangeIndex: 10000 entries, 0 to 9999\n",
      "Data columns (total 6 columns):\n",
      "id                   10000 non-null object\n",
      "bus_seq_num          10000 non-null float64\n",
      "target               10000 non-null object\n",
      "desc                 10000 non-null object\n",
      "industry_group_id    10000 non-null object\n",
      "construction_flag    10000 non-null object\n",
      "dtypes: float64(1), object(5)\n",
      "memory usage: 468.8+ KB\n"
     ]
    }
   ],
   "source": [
    "data_df.info()"
   ]
  },
  {
   "cell_type": "code",
   "execution_count": 6,
   "metadata": {},
   "outputs": [
    {
     "name": "stdout",
     "output_type": "stream",
     "text": [
      "Descriptions - first 500 characters\n",
      "\n",
      "TARGET: 0913 or 0\n",
      "DESCR: livestock operations\n",
      "\n",
      "TARGET: 9082 or 0\n",
      "DESCR: restaurant\n",
      "\n",
      "TARGET: 5537 or 1\n",
      "DESCR: northern colorado air inc. and northern colorado air of longmont inc. is a hvac contractor in norther colorado.  insured has two locations:  fort collins and sales office in longmont.   insured offers installation, repairs of hvac systems, preventative planned maintenance, and sheet metal fabrication.  insured does residential and light commercial.   \n",
      "\n",
      "employees will do service calls, replacements, new construction (1111); administrative employees who handle calls, general manager, administrativ\n",
      "\n",
      "TARGET: 9083 or 0\n",
      "DESCR: fast-food chain serving chicken wings and fingers, plus burgers, chili and sides\n",
      "\n",
      "TARGET: 9082 or 0\n",
      "DESCR: quay's restaurant group llc dba darcy's bistro and pub is a sit down restaurant serving appetizers, alcohol and food.  \n",
      "\n",
      "full service restaurant.  duties include:  food preparation, order taking, food running, dishwashing, bartending, cash handling, cleaning, product ordering. \n",
      "\n",
      "restaurant serving appetizers, alcohol, and food.  per the 11/11 audit :  food sales is over 11% of total sales - class 1111 applies. employees include:  kitchen/dishwasher staff, wait/server staff, hostess staff, manage\n",
      "\n"
     ]
    }
   ],
   "source": [
    "max_characters = 500\n",
    "print(f\"Descriptions - first {max_characters} characters\\n\")\n",
    "for _, row in data_df.iloc[:5].iterrows():\n",
    "    print(f\"TARGET: {row['target']} or {row['construction_flag']}\\nDESCR: {row['desc'].strip()[:max_characters]}\\n\")"
   ]
  },
  {
   "cell_type": "code",
   "execution_count": 7,
   "metadata": {},
   "outputs": [
    {
     "data": {
      "image/png": "[encoded data removed]",
      "text/plain": [
       "<Figure size 720x432 with 2 Axes>"
      ]
     },
     "metadata": {},
     "output_type": "display_data"
    }
   ],
   "source": [
    "# Graph of log counts and total counts for all descritpions\n",
    "fig, ax = plt.subplots(1, 2, figsize=(10,6))                            # Make an empty figure we can control\n",
    "word_counts = data_df['desc'].apply(lambda x: len(x.split()))           # Number of words in each description\n",
    "log_counts = np.log(word_counts + 0.0001)                               # need small adjustments for any 0's\n",
    "\n",
    "# Generate first subplot - total counts\n",
    "sns.distplot(a=word_counts, bins=40, axlabel=\"Word Counts\", ax=ax[0])\n",
    "ax[0].axvline(x=np.average(word_counts), color='k', linestyle='--')\n",
    "\n",
    "# Generate second subplot - log counts\n",
    "sns.distplot(a=log_counts, bins=40, axlabel=\"Log of Word Counts\", ax=ax[1])\n",
    "ax[1].axvline(x=np.average(log_counts), color='k', linestyle='--')\n",
    "\n",
    "# Clean these up a bit\n",
    "ax[0].set_xlim(left=0)\n",
    "ax[1].set_xlim(left=0);"
   ]
  },
  {
   "cell_type": "code",
   "execution_count": 8,
   "metadata": {},
   "outputs": [
    {
     "name": "stdout",
     "output_type": "stream",
     "text": [
      "Total Non-Uqique Words 25,438\n"
     ]
    }
   ],
   "source": [
    "# See numbr of words (not perfect still has punctuation and stuff)\n",
    "num_words = len(set(' '.join(data_df['desc']).split(' ')))\n",
    "print(f\"Total Non-Uqique Words {num_words:,}\")\n",
    "\n",
    "# Make a big string of all the descriptions\n",
    "pass\n",
    "\n",
    "# Make a list of all the words\n",
    "pass\n",
    "\n",
    "# Remove punctuation from all words\n",
    "pass\n",
    "\n",
    "# Get a count of all the unique words\n",
    "from collections import Counter        # just an option to use, many other options\n",
    "pass\n",
    "\n",
    "# Examine counts, maybe plot like above if wanted\n",
    "pass"
   ]
  },
  {
   "cell_type": "code",
   "execution_count": 9,
   "metadata": {},
   "outputs": [
    {
     "data": {
      "image/png": "[encoded data removed]",
      "text/plain": [
       "<Figure size 432x288 with 1 Axes>"
      ]
     },
     "metadata": {},
     "output_type": "display_data"
    }
   ],
   "source": [
    "fig, ax = plt.subplots()\n",
    "sns.countplot(data=data_df, x='construction_flag', ax=ax);"
   ]
  },
  {
   "cell_type": "code",
   "execution_count": 10,
   "metadata": {},
   "outputs": [],
   "source": [
    "def summarize_doc_transformation(doc_df, doc_index, trained_vectorizer, tfidf_matrix, column='desc',\n",
    "                                 terms_per_line=4):\n",
    "    \"\"\"\n",
    "    DESCR: A function to help evaluate the individual transformation of documents to tfidf vectors.\n",
    "    INPUT: doc_df - pandas.DataFrame - \n",
    "           doc_index - int - \n",
    "           trained_vectorizer - sklearn...tfidfVec... -  \n",
    "    OUTPUT: stdout, no return\n",
    "    \"\"\"\n",
    "    # Print out what this document looked like before transformation\n",
    "    print(f\"DOCUMENT: {doc_index}\")\n",
    "    print(\"ORIGINAL DOCUMENT:\")\n",
    "    print(f\"{repr(doc_df.iloc[doc_index][column])}\\n\")\n",
    "    \n",
    "    # See a tfidf represenation\n",
    "    vect = tfidf_matrix.todense()[doc_index,:]    # get a single vector to work with\n",
    "    \n",
    "    # take only the non-zero terms\n",
    "    important_terms = [(term, vect[0, index]) for term, index in trained_vectorizer.vocabulary_.items()\n",
    "                       if vect[0, index] != 0]\n",
    "    \n",
    "    # Sort by most to least important\n",
    "    important_terms = sorted(important_terms, key=lambda x: x[1], reverse=True)\n",
    "\n",
    "    # print out the terms along with their tfidfs\n",
    "    print(\"NON ZERO VECTOR VALUES (Most to Least Important):\")\n",
    "    words_on_line = 0\n",
    "    for term, tfidf in important_terms:\n",
    "        print(f\"{term+':':<15} {tfidf:0.3f}    \", end=\"\")\n",
    "        words_on_line += 1\n",
    "        if words_on_line >= terms_per_line:\n",
    "            print()\n",
    "            words_on_line = 0\n",
    "    \n",
    "    print(f\"\\nTERMS w/ ZERO VALUE: {tfidf_matrix.shape[1] - len(important_terms):,}\")\n",
    "    print(f\"Sum of terms: {sum([tfidf for term, tfidf in important_terms]):0.2f}\")"
   ]
  },
  {
   "cell_type": "code",
   "execution_count": 11,
   "metadata": {},
   "outputs": [],
   "source": [
    "# Import and set up and object to transform our text\n",
    "# leaving this all very conservative, can be tweeked and experimented with\n",
    "# all of these hyper paramters could alternatively be found via a cross validated gridsearch\n",
    "from sklearn.feature_extraction.text import TfidfVectorizer\n",
    "vectorizer = TfidfVectorizer(strip_accents='ascii',    # don't need é kind of stuff\n",
    "                             ngram_range=(1,1),        # could have 'dog runner' as a single term if 2\n",
    "                             stop_words='english',     # a, the, is, or, ....\n",
    "                             max_df=0.8,               # is it in too many documnets?  \n",
    "                             min_df=0.0,               # is it in too few documents?\n",
    "                             max_features=None,        # try to avoid ridiculously high dimensionality\n",
    "                             preprocessor=None,        # replace to customize preporcessing\n",
    "                             tokenizer=None,           # replace to customize token generation\n",
    "                             )"
   ]
  },
  {
   "cell_type": "code",
   "execution_count": 12,
   "metadata": {},
   "outputs": [
    {
     "data": {
      "text/html": [
       "<div>\n",
       "<style scoped>\n",
       "    .dataframe tbody tr th:only-of-type {\n",
       "        vertical-align: middle;\n",
       "    }\n",
       "\n",
       "    .dataframe tbody tr th {\n",
       "        vertical-align: top;\n",
       "    }\n",
       "\n",
       "    .dataframe thead th {\n",
       "        text-align: right;\n",
       "    }\n",
       "</style>\n",
       "<table border=\"1\" class=\"dataframe\">\n",
       "  <thead>\n",
       "    <tr style=\"text-align: right;\">\n",
       "      <th></th>\n",
       "      <th>id</th>\n",
       "      <th>bus_seq_num</th>\n",
       "      <th>target</th>\n",
       "      <th>desc</th>\n",
       "      <th>industry_group_id</th>\n",
       "      <th>construction_flag</th>\n",
       "    </tr>\n",
       "  </thead>\n",
       "  <tbody>\n",
       "    <tr>\n",
       "      <th>0</th>\n",
       "      <td>1000</td>\n",
       "      <td>1.0</td>\n",
       "      <td>0913</td>\n",
       "      <td>livestock operations</td>\n",
       "      <td>01</td>\n",
       "      <td>0</td>\n",
       "    </tr>\n",
       "    <tr>\n",
       "      <th>1</th>\n",
       "      <td>10000</td>\n",
       "      <td>1.0</td>\n",
       "      <td>9082</td>\n",
       "      <td>restaurant</td>\n",
       "      <td>36</td>\n",
       "      <td>0</td>\n",
       "    </tr>\n",
       "    <tr>\n",
       "      <th>2</th>\n",
       "      <td>1000004</td>\n",
       "      <td>1.0</td>\n",
       "      <td>5537</td>\n",
       "      <td>northern colorado air inc. and northern colora...</td>\n",
       "      <td>27</td>\n",
       "      <td>1</td>\n",
       "    </tr>\n",
       "    <tr>\n",
       "      <th>3</th>\n",
       "      <td>1000008</td>\n",
       "      <td>1.0</td>\n",
       "      <td>9083</td>\n",
       "      <td>fast-food chain serving chicken wings and fing...</td>\n",
       "      <td>36</td>\n",
       "      <td>0</td>\n",
       "    </tr>\n",
       "    <tr>\n",
       "      <th>4</th>\n",
       "      <td>1000009</td>\n",
       "      <td>1.0</td>\n",
       "      <td>9082</td>\n",
       "      <td>quay's restaurant group llc dba darcy's bistro...</td>\n",
       "      <td>36</td>\n",
       "      <td>0</td>\n",
       "    </tr>\n",
       "  </tbody>\n",
       "</table>\n",
       "</div>"
      ],
      "text/plain": [
       "        id  bus_seq_num target  \\\n",
       "0     1000          1.0   0913   \n",
       "1    10000          1.0   9082   \n",
       "2  1000004          1.0   5537   \n",
       "3  1000008          1.0   9083   \n",
       "4  1000009          1.0   9082   \n",
       "\n",
       "                                                desc industry_group_id  \\\n",
       "0                               livestock operations                01   \n",
       "1                                         restaurant                36   \n",
       "2  northern colorado air inc. and northern colora...                27   \n",
       "3  fast-food chain serving chicken wings and fing...                36   \n",
       "4  quay's restaurant group llc dba darcy's bistro...                36   \n",
       "\n",
       "  construction_flag  \n",
       "0                 0  \n",
       "1                 0  \n",
       "2                 1  \n",
       "3                 0  \n",
       "4                 0  "
      ]
     },
     "execution_count": 12,
     "metadata": {},
     "output_type": "execute_result"
    }
   ],
   "source": [
    "data_df.head()"
   ]
  },
  {
   "cell_type": "code",
   "execution_count": 14,
   "metadata": {},
   "outputs": [
    {
     "name": "stdout",
     "output_type": "stream",
     "text": [
      "Data structure: <class 'scipy.sparse.csr.csr_matrix'>\n",
      "Number of rows (documents): 10,000\n",
      "Number of features (terms): 12,054\n"
     ]
    }
   ],
   "source": [
    "tfidf_matrix = vectorizer.fit_transform(data_df['desc'])\n",
    "\n",
    "# Explain some thing about this object\n",
    "print(f\"Data structure: {type(tfidf_matrix)}\")\n",
    "print(f\"Number of rows (documents): {tfidf_matrix.shape[0]:,}\")\n",
    "print(f\"Number of features (terms): {tfidf_matrix.shape[1]:,}\")"
   ]
  },
  {
   "cell_type": "code",
   "execution_count": 20,
   "metadata": {},
   "outputs": [
    {
     "name": "stdout",
     "output_type": "stream",
     "text": [
      "DOCUMENT: 17\n",
      "ORIGINAL DOCUMENT:\n",
      "'aaa service plumbing provides plumbing, hvac and electrical service to residential customers in the denver metro area. all work is on existing houses, no new construction. operates from one location on marshall street. service is offered 1 days per week. technicians specialize in plumbing which includes repair or replacement of pipes and fixtures, drain cleaning or sewer repair; electrical which includes the repair and replacement of wiring and electrical fixtures; or hvac which involves the repair or replacement of forced air heating and air conditioning systems. warehouse staff and fleet manager work for all the services in the warehouse area where supplies are stored and vehicles are managed. the service manager works in the office providing technical advice to the technicians via phone. he may visit a job site and may assist with repairs. works for with all service technicians. there is a large office staff that includes accounting who maintain the records, sends bills, and receives payments; dispatchers who work with the schedule and dispatch the technicians; and customer service representatives who receive the calls from customers and set up the service. two employees sell hvac systems. they do not perform any technical work. class 1111 includes, plumbing, drain and sewer, and service manager. service manager is a miscellaneous employee classified to 1111 because it is the governing class. class 1111 includes electrical work class 1111 includes hvac\\n1111 includes yard 1111 includes hvac outside sales reps 1111 includes employees who work exclusively in the office-accounting, dispatch and customer service. aaa service contracts out for services that they do not perform. the two main contractors are for sewer line scope and repair has wc certs. per 11/11 premier'\n",
      "\n",
      "NON ZERO VECTOR VALUES (Most to Least Important):\n",
      "service:        0.346    includes:       0.345    hvac:           0.265    technicians:    0.225    \n",
      "1111:           0.178    repair:         0.178    manager:        0.174    replacement:    0.170    \n",
      "plumbing:       0.168    work:           0.168    sewer:          0.166    electrical:     0.163    \n",
      "aaa:            0.152    drain:          0.142    class:          0.132    technical:      0.122    \n",
      "fixtures:       0.122    dispatch:       0.121    perform:        0.099    air:            0.097    \n",
      "customer:       0.094    warehouse:      0.091    systems:        0.091    works:          0.088    \n",
      "area:           0.087    accounting:     0.085    customers:      0.085    office:         0.084    \n",
      "staff:          0.078    marshall:       0.076    sends:          0.076    forced:         0.075    \n",
      "advice:         0.075    dispatchers:    0.073    scope:          0.073    representatives: 0.071    \n",
      "receives:       0.069    services:       0.069    specialize:     0.068    fleet:          0.068    \n",
      "premier:        0.067    managed:        0.067    bills:          0.067    pipes:          0.065    \n",
      "reps:           0.065    stored:         0.063    payments:       0.063    involves:       0.061    \n",
      "offered:        0.060    miscellaneous:  0.060    certs:          0.059    governing:      0.059    \n",
      "schedule:       0.059    receive:        0.059    calls:          0.057    line:           0.057    \n",
      "wc:             0.056    assist:         0.056    metro:          0.056    maintain:       0.055    \n",
      "days:           0.054    contracts:      0.054    set:            0.054    visit:          0.054    \n",
      "houses:         0.054    conditioning:   0.053    classified:     0.053    main:           0.053    \n",
      "existing:       0.053    large:          0.053    wiring:         0.051    records:        0.050    \n",
      "street:         0.050    vehicles:       0.050    supplies:       0.049    yard:           0.049    \n",
      "phone:          0.048    week:           0.048    sell:           0.048    employees:      0.046    \n",
      "heating:        0.046    providing:      0.046    denver:         0.045    exclusively:    0.044    \n",
      "provides:       0.044    operates:       0.044    repairs:        0.044    site:           0.043    \n",
      "job:            0.042    location:       0.042    11:             0.040    outside:        0.039    \n",
      "contractors:    0.039    cleaning:       0.038    new:            0.036    construction:   0.032    \n",
      "sales:          0.031    residential:    0.027    employee:       0.027    \n",
      "TERMS w/ ZERO VALUE: 11,955\n",
      "Sum of terms: 8.10\n"
     ]
    }
   ],
   "source": [
    "doc_ind = 17\n",
    "summarize_doc_transformation(data_df, doc_ind, vectorizer, tfidf_matrix)"
   ]
  },
  {
   "cell_type": "code",
   "execution_count": 21,
   "metadata": {},
   "outputs": [],
   "source": [
    "# Import a bunch of stuff to create a model\n",
    "from sklearn.tree import DecisionTreeClassifier as TreeModel\n",
    "from sklearn.model_selection import train_test_split\n",
    "from graphviz import Source\n",
    "from IPython.display import SVG\n",
    "from sklearn.tree import export_graphviz\n",
    "from sklearn.metrics import accuracy_score\n",
    "\n",
    "# If on windows like me will need to add in location to graphviz\n",
    "# You will need to alter the path accordingly, maybe just your username will change\n",
    "#import os\n",
    "#os.environ['PATH'] += ';C:\\\\Users\\\\ranneyr\\\\AppData\\\\Local\\\\Continuum\\\\Anaconda3\\\\envs\\\\pendragon\\\\Library\\\\bin\\\\graphviz'"
   ]
  },
  {
   "cell_type": "code",
   "execution_count": 22,
   "metadata": {},
   "outputs": [],
   "source": [
    "# We need a hold out set\n",
    "# we will use this to evaluate a final model\n",
    "X_train, X_test, y_train, y_test = train_test_split(tfidf_matrix, data_df['construction_flag'])"
   ]
  },
  {
   "cell_type": "code",
   "execution_count": 23,
   "metadata": {},
   "outputs": [],
   "source": [
    "# Have to remap features names from the vectorizer object\n",
    "# kind of a hassle, but makes tree much more interpretable\n",
    "features = [term for num, term in sorted([(num, term) \n",
    "            for term, num in vectorizer.vocabulary_.items()])]"
   ]
  },
  {
   "cell_type": "code",
   "execution_count": 25,
   "metadata": {},
   "outputs": [],
   "source": [
    "clf = TreeModel(max_depth=1, criterion='entropy').fit(X_train, y_train)"
   ]
  },
  {
   "cell_type": "code",
   "execution_count": 26,
   "metadata": {},
   "outputs": [
    {
     "data": {
      "image/svg+xml": [
       "<svg height=\"162pt\" viewBox=\"0.00 0.00 286.00 162.00\" width=\"286pt\" xmlns=\"http://www.w3.org/2000/svg\" xmlns:xlink=\"http://www.w3.org/1999/xlink\">\n",
       "<g class=\"graph\" id=\"graph0\" transform=\"scale(1 1) rotate(0) translate(4 158)\">\n",
       "<title>Tree</title>\n",
       "<polygon fill=\"#ffffff\" points=\"-4,4 -4,-158 282,-158 282,4 -4,4\" stroke=\"transparent\"/>\n",
       "<!-- 0 -->\n",
       "<g class=\"node\" id=\"node1\">\n",
       "<title>0</title>\n",
       "<polygon fill=\"#e58139\" fill-opacity=\"0.470588\" points=\"121,-118.5 0,-118.5 0,-35.5 121,-35.5 121,-118.5\" stroke=\"#000000\"/>\n",
       "<text fill=\"#000000\" font-family=\"Times,serif\" font-size=\"14.00\" text-anchor=\"middle\" x=\"60.5\" y=\"-103.3\">residential &lt;= 0.065</text>\n",
       "<text fill=\"#000000\" font-family=\"Times,serif\" font-size=\"14.00\" text-anchor=\"middle\" x=\"60.5\" y=\"-88.3\">entropy = 0.93</text>\n",
       "<text fill=\"#000000\" font-family=\"Times,serif\" font-size=\"14.00\" text-anchor=\"middle\" x=\"60.5\" y=\"-73.3\">samples = 7500</text>\n",
       "<text fill=\"#000000\" font-family=\"Times,serif\" font-size=\"14.00\" text-anchor=\"middle\" x=\"60.5\" y=\"-58.3\">value = [4909, 2591]</text>\n",
       "<text fill=\"#000000\" font-family=\"Times,serif\" font-size=\"14.00\" text-anchor=\"middle\" x=\"60.5\" y=\"-43.3\">class = Not Construction</text>\n",
       "</g>\n",
       "<!-- 1 -->\n",
       "<g class=\"node\" id=\"node2\">\n",
       "<title>1</title>\n",
       "<polygon fill=\"#e58139\" fill-opacity=\"0.611765\" points=\"278,-154 157,-154 157,-86 278,-86 278,-154\" stroke=\"#000000\"/>\n",
       "<text fill=\"#000000\" font-family=\"Times,serif\" font-size=\"14.00\" text-anchor=\"middle\" x=\"217.5\" y=\"-138.8\">entropy = 0.854</text>\n",
       "<text fill=\"#000000\" font-family=\"Times,serif\" font-size=\"14.00\" text-anchor=\"middle\" x=\"217.5\" y=\"-123.8\">samples = 6635</text>\n",
       "<text fill=\"#000000\" font-family=\"Times,serif\" font-size=\"14.00\" text-anchor=\"middle\" x=\"217.5\" y=\"-108.8\">value = [4785, 1850]</text>\n",
       "<text fill=\"#000000\" font-family=\"Times,serif\" font-size=\"14.00\" text-anchor=\"middle\" x=\"217.5\" y=\"-93.8\">class = Not Construction</text>\n",
       "</g>\n",
       "<!-- 0&#45;&gt;1 -->\n",
       "<g class=\"edge\" id=\"edge1\">\n",
       "<title>0-&gt;1</title>\n",
       "<path d=\"M121.2003,-93.6249C129.7267,-95.9602 138.5488,-98.3764 147.235,-100.7554\" fill=\"none\" stroke=\"#000000\"/>\n",
       "<polygon fill=\"#000000\" points=\"146.3918,-104.1533 156.9611,-103.4193 148.2409,-97.402 146.3918,-104.1533\" stroke=\"#000000\"/>\n",
       "<text fill=\"#000000\" font-family=\"Times,serif\" font-size=\"14.00\" text-anchor=\"middle\" x=\"135.2417\" y=\"-112.0994\">True</text>\n",
       "</g>\n",
       "<!-- 2 -->\n",
       "<g class=\"node\" id=\"node3\">\n",
       "<title>2</title>\n",
       "<polygon fill=\"#399de5\" fill-opacity=\"0.831373\" points=\"268.5,-68 166.5,-68 166.5,0 268.5,0 268.5,-68\" stroke=\"#000000\"/>\n",
       "<text fill=\"#000000\" font-family=\"Times,serif\" font-size=\"14.00\" text-anchor=\"middle\" x=\"217.5\" y=\"-52.8\">entropy = 0.593</text>\n",
       "<text fill=\"#000000\" font-family=\"Times,serif\" font-size=\"14.00\" text-anchor=\"middle\" x=\"217.5\" y=\"-37.8\">samples = 865</text>\n",
       "<text fill=\"#000000\" font-family=\"Times,serif\" font-size=\"14.00\" text-anchor=\"middle\" x=\"217.5\" y=\"-22.8\">value = [124, 741]</text>\n",
       "<text fill=\"#000000\" font-family=\"Times,serif\" font-size=\"14.00\" text-anchor=\"middle\" x=\"217.5\" y=\"-7.8\">class = Construction</text>\n",
       "</g>\n",
       "<!-- 0&#45;&gt;2 -->\n",
       "<g class=\"edge\" id=\"edge2\">\n",
       "<title>0-&gt;2</title>\n",
       "<path d=\"M121.2003,-60.3751C132.7461,-57.2128 144.8342,-53.9021 156.3926,-50.7364\" fill=\"none\" stroke=\"#000000\"/>\n",
       "<polygon fill=\"#000000\" points=\"157.6665,-54.0165 166.3867,-47.9992 155.8174,-47.2651 157.6665,-54.0165\" stroke=\"#000000\"/>\n",
       "<text fill=\"#000000\" font-family=\"Times,serif\" font-size=\"14.00\" text-anchor=\"middle\" x=\"144.6673\" y=\"-31.9191\">False</text>\n",
       "</g>\n",
       "</g>\n",
       "</svg>"
      ],
      "text/plain": [
       "<IPython.core.display.SVG object>"
      ]
     },
     "execution_count": 26,
     "metadata": {},
     "output_type": "execute_result"
    }
   ],
   "source": [
    "graph = Source(export_graphviz(clf, out_file=None, feature_names=features, filled=True, rotate=True,\n",
    "                               class_names=['Not Construction', 'Construction']))\n",
    "SVG(graph.pipe(format='svg'))"
   ]
  },
  {
   "cell_type": "code",
   "execution_count": 28,
   "metadata": {},
   "outputs": [
    {
     "data": {
      "image/svg+xml": [
       "<svg height=\"338pt\" viewBox=\"0.00 0.00 443.00 338.00\" width=\"443pt\" xmlns=\"http://www.w3.org/2000/svg\" xmlns:xlink=\"http://www.w3.org/1999/xlink\">\n",
       "<g class=\"graph\" id=\"graph0\" transform=\"scale(1 1) rotate(0) translate(4 334)\">\n",
       "<title>Tree</title>\n",
       "<polygon fill=\"#ffffff\" points=\"-4,4 -4,-334 439,-334 439,4 -4,4\" stroke=\"transparent\"/>\n",
       "<!-- 0 -->\n",
       "<g class=\"node\" id=\"node1\">\n",
       "<title>0</title>\n",
       "<polygon fill=\"#e58139\" fill-opacity=\"0.470588\" points=\"121,-207.5 0,-207.5 0,-124.5 121,-124.5 121,-207.5\" stroke=\"#000000\"/>\n",
       "<text fill=\"#000000\" font-family=\"Times,serif\" font-size=\"14.00\" text-anchor=\"middle\" x=\"60.5\" y=\"-192.3\">residential &lt;= 0.065</text>\n",
       "<text fill=\"#000000\" font-family=\"Times,serif\" font-size=\"14.00\" text-anchor=\"middle\" x=\"60.5\" y=\"-177.3\">entropy = 0.93</text>\n",
       "<text fill=\"#000000\" font-family=\"Times,serif\" font-size=\"14.00\" text-anchor=\"middle\" x=\"60.5\" y=\"-162.3\">samples = 7500</text>\n",
       "<text fill=\"#000000\" font-family=\"Times,serif\" font-size=\"14.00\" text-anchor=\"middle\" x=\"60.5\" y=\"-147.3\">value = [4909, 2591]</text>\n",
       "<text fill=\"#000000\" font-family=\"Times,serif\" font-size=\"14.00\" text-anchor=\"middle\" x=\"60.5\" y=\"-132.3\">class = Not Construction</text>\n",
       "</g>\n",
       "<!-- 1 -->\n",
       "<g class=\"node\" id=\"node2\">\n",
       "<title>1</title>\n",
       "<polygon fill=\"#e58139\" fill-opacity=\"0.611765\" points=\"278,-258.5 157,-258.5 157,-175.5 278,-175.5 278,-258.5\" stroke=\"#000000\"/>\n",
       "<text fill=\"#000000\" font-family=\"Times,serif\" font-size=\"14.00\" text-anchor=\"middle\" x=\"217.5\" y=\"-243.3\">contractor &lt;= 0.048</text>\n",
       "<text fill=\"#000000\" font-family=\"Times,serif\" font-size=\"14.00\" text-anchor=\"middle\" x=\"217.5\" y=\"-228.3\">entropy = 0.854</text>\n",
       "<text fill=\"#000000\" font-family=\"Times,serif\" font-size=\"14.00\" text-anchor=\"middle\" x=\"217.5\" y=\"-213.3\">samples = 6635</text>\n",
       "<text fill=\"#000000\" font-family=\"Times,serif\" font-size=\"14.00\" text-anchor=\"middle\" x=\"217.5\" y=\"-198.3\">value = [4785, 1850]</text>\n",
       "<text fill=\"#000000\" font-family=\"Times,serif\" font-size=\"14.00\" text-anchor=\"middle\" x=\"217.5\" y=\"-183.3\">class = Not Construction</text>\n",
       "</g>\n",
       "<!-- 0&#45;&gt;1 -->\n",
       "<g class=\"edge\" id=\"edge1\">\n",
       "<title>0-&gt;1</title>\n",
       "<path d=\"M121.2003,-185.7179C129.7267,-188.4877 138.5488,-191.3534 147.235,-194.1751\" fill=\"none\" stroke=\"#000000\"/>\n",
       "<polygon fill=\"#000000\" points=\"146.369,-197.5737 156.9611,-197.3345 148.5317,-190.9162 146.369,-197.5737\" stroke=\"#000000\"/>\n",
       "<text fill=\"#000000\" font-family=\"Times,serif\" font-size=\"14.00\" text-anchor=\"middle\" x=\"134.6868\" y=\"-204.9859\">True</text>\n",
       "</g>\n",
       "<!-- 4 -->\n",
       "<g class=\"node\" id=\"node5\">\n",
       "<title>4</title>\n",
       "<polygon fill=\"#399de5\" fill-opacity=\"0.831373\" points=\"268.5,-157.5 166.5,-157.5 166.5,-74.5 268.5,-74.5 268.5,-157.5\" stroke=\"#000000\"/>\n",
       "<text fill=\"#000000\" font-family=\"Times,serif\" font-size=\"14.00\" text-anchor=\"middle\" x=\"217.5\" y=\"-142.3\">cleaning &lt;= 0.127</text>\n",
       "<text fill=\"#000000\" font-family=\"Times,serif\" font-size=\"14.00\" text-anchor=\"middle\" x=\"217.5\" y=\"-127.3\">entropy = 0.593</text>\n",
       "<text fill=\"#000000\" font-family=\"Times,serif\" font-size=\"14.00\" text-anchor=\"middle\" x=\"217.5\" y=\"-112.3\">samples = 865</text>\n",
       "<text fill=\"#000000\" font-family=\"Times,serif\" font-size=\"14.00\" text-anchor=\"middle\" x=\"217.5\" y=\"-97.3\">value = [124, 741]</text>\n",
       "<text fill=\"#000000\" font-family=\"Times,serif\" font-size=\"14.00\" text-anchor=\"middle\" x=\"217.5\" y=\"-82.3\">class = Construction</text>\n",
       "</g>\n",
       "<!-- 0&#45;&gt;4 -->\n",
       "<g class=\"edge\" id=\"edge4\">\n",
       "<title>0-&gt;4</title>\n",
       "<path d=\"M121.2003,-146.6687C132.8627,-142.9545 145.0785,-139.0642 156.7427,-135.3494\" fill=\"none\" stroke=\"#000000\"/>\n",
       "<polygon fill=\"#000000\" points=\"157.9204,-138.6477 166.3867,-132.2781 155.7962,-131.9778 157.9204,-138.6477\" stroke=\"#000000\"/>\n",
       "<text fill=\"#000000\" font-family=\"Times,serif\" font-size=\"14.00\" text-anchor=\"middle\" x=\"144.1783\" y=\"-117.0984\">False</text>\n",
       "</g>\n",
       "<!-- 2 -->\n",
       "<g class=\"node\" id=\"node3\">\n",
       "<title>2</title>\n",
       "<polygon fill=\"#e58139\" fill-opacity=\"0.686275\" points=\"435,-330 314,-330 314,-262 435,-262 435,-330\" stroke=\"#000000\"/>\n",
       "<text fill=\"#000000\" font-family=\"Times,serif\" font-size=\"14.00\" text-anchor=\"middle\" x=\"374.5\" y=\"-314.8\">entropy = 0.792</text>\n",
       "<text fill=\"#000000\" font-family=\"Times,serif\" font-size=\"14.00\" text-anchor=\"middle\" x=\"374.5\" y=\"-299.8\">samples = 6163</text>\n",
       "<text fill=\"#000000\" font-family=\"Times,serif\" font-size=\"14.00\" text-anchor=\"middle\" x=\"374.5\" y=\"-284.8\">value = [4695, 1468]</text>\n",
       "<text fill=\"#000000\" font-family=\"Times,serif\" font-size=\"14.00\" text-anchor=\"middle\" x=\"374.5\" y=\"-269.8\">class = Not Construction</text>\n",
       "</g>\n",
       "<!-- 1&#45;&gt;2 -->\n",
       "<g class=\"edge\" id=\"edge2\">\n",
       "<title>1-&gt;2</title>\n",
       "<path d=\"M278.2003,-247.5435C286.9101,-251.9261 295.9284,-256.464 304.7952,-260.9256\" fill=\"none\" stroke=\"#000000\"/>\n",
       "<polygon fill=\"#000000\" points=\"303.455,-264.1693 313.9611,-265.5378 306.6015,-257.9163 303.455,-264.1693\" stroke=\"#000000\"/>\n",
       "</g>\n",
       "<!-- 3 -->\n",
       "<g class=\"node\" id=\"node4\">\n",
       "<title>3</title>\n",
       "<polygon fill=\"#399de5\" fill-opacity=\"0.764706\" points=\"425.5,-244 323.5,-244 323.5,-176 425.5,-176 425.5,-244\" stroke=\"#000000\"/>\n",
       "<text fill=\"#000000\" font-family=\"Times,serif\" font-size=\"14.00\" text-anchor=\"middle\" x=\"374.5\" y=\"-228.8\">entropy = 0.703</text>\n",
       "<text fill=\"#000000\" font-family=\"Times,serif\" font-size=\"14.00\" text-anchor=\"middle\" x=\"374.5\" y=\"-213.8\">samples = 472</text>\n",
       "<text fill=\"#000000\" font-family=\"Times,serif\" font-size=\"14.00\" text-anchor=\"middle\" x=\"374.5\" y=\"-198.8\">value = [90, 382]</text>\n",
       "<text fill=\"#000000\" font-family=\"Times,serif\" font-size=\"14.00\" text-anchor=\"middle\" x=\"374.5\" y=\"-183.8\">class = Construction</text>\n",
       "</g>\n",
       "<!-- 1&#45;&gt;3 -->\n",
       "<g class=\"edge\" id=\"edge3\">\n",
       "<title>1-&gt;3</title>\n",
       "<path d=\"M278.2003,-214.2936C289.7461,-213.7788 301.8342,-213.2399 313.3926,-212.7245\" fill=\"none\" stroke=\"#000000\"/>\n",
       "<polygon fill=\"#000000\" points=\"313.5526,-216.221 323.3867,-212.2789 313.2407,-209.2279 313.5526,-216.221\" stroke=\"#000000\"/>\n",
       "</g>\n",
       "<!-- 5 -->\n",
       "<g class=\"node\" id=\"node6\">\n",
       "<title>5</title>\n",
       "<polygon fill=\"#399de5\" fill-opacity=\"0.870588\" points=\"425.5,-154 323.5,-154 323.5,-86 425.5,-86 425.5,-154\" stroke=\"#000000\"/>\n",
       "<text fill=\"#000000\" font-family=\"Times,serif\" font-size=\"14.00\" text-anchor=\"middle\" x=\"374.5\" y=\"-138.8\">entropy = 0.512</text>\n",
       "<text fill=\"#000000\" font-family=\"Times,serif\" font-size=\"14.00\" text-anchor=\"middle\" x=\"374.5\" y=\"-123.8\">samples = 834</text>\n",
       "<text fill=\"#000000\" font-family=\"Times,serif\" font-size=\"14.00\" text-anchor=\"middle\" x=\"374.5\" y=\"-108.8\">value = [95, 739]</text>\n",
       "<text fill=\"#000000\" font-family=\"Times,serif\" font-size=\"14.00\" text-anchor=\"middle\" x=\"374.5\" y=\"-93.8\">class = Construction</text>\n",
       "</g>\n",
       "<!-- 4&#45;&gt;5 -->\n",
       "<g class=\"edge\" id=\"edge5\">\n",
       "<title>4-&gt;5</title>\n",
       "<path d=\"M268.9077,-117.3097C282.9404,-117.6673 298.2896,-118.0583 312.8304,-118.4288\" fill=\"none\" stroke=\"#000000\"/>\n",
       "<polygon fill=\"#000000\" points=\"313.1592,-121.9382 323.2451,-118.6941 313.3375,-114.9405 313.1592,-121.9382\" stroke=\"#000000\"/>\n",
       "</g>\n",
       "<!-- 6 -->\n",
       "<g class=\"node\" id=\"node7\">\n",
       "<title>6</title>\n",
       "<polygon fill=\"#e58139\" fill-opacity=\"0.929412\" points=\"435,-68 314,-68 314,0 435,0 435,-68\" stroke=\"#000000\"/>\n",
       "<text fill=\"#000000\" font-family=\"Times,serif\" font-size=\"14.00\" text-anchor=\"middle\" x=\"374.5\" y=\"-52.8\">entropy = 0.345</text>\n",
       "<text fill=\"#000000\" font-family=\"Times,serif\" font-size=\"14.00\" text-anchor=\"middle\" x=\"374.5\" y=\"-37.8\">samples = 31</text>\n",
       "<text fill=\"#000000\" font-family=\"Times,serif\" font-size=\"14.00\" text-anchor=\"middle\" x=\"374.5\" y=\"-22.8\">value = [29, 2]</text>\n",
       "<text fill=\"#000000\" font-family=\"Times,serif\" font-size=\"14.00\" text-anchor=\"middle\" x=\"374.5\" y=\"-7.8\">class = Not Construction</text>\n",
       "</g>\n",
       "<!-- 4&#45;&gt;6 -->\n",
       "<g class=\"edge\" id=\"edge6\">\n",
       "<title>4-&gt;6</title>\n",
       "<path d=\"M268.9077,-89.1501C280.3812,-83.1576 292.7348,-76.7054 304.807,-70.4002\" fill=\"none\" stroke=\"#000000\"/>\n",
       "<polygon fill=\"#000000\" points=\"306.7211,-73.3491 313.9646,-65.6172 303.4804,-67.1444 306.7211,-73.3491\" stroke=\"#000000\"/>\n",
       "</g>\n",
       "</g>\n",
       "</svg>"
      ],
      "text/plain": [
       "<IPython.core.display.SVG object>"
      ]
     },
     "execution_count": 28,
     "metadata": {},
     "output_type": "execute_result"
    }
   ],
   "source": [
    "# Go deeper to a nother split\n",
    "clf = TreeModel(max_depth=2, criterion='entropy').fit(X_train, y_train)\n",
    "graph = Source(export_graphviz(clf, out_file=None, feature_names=features, filled=True, rotate=True,\n",
    "                               class_names=['Not Construction', 'Construction']))\n",
    "SVG(graph.pipe(format='svg'))"
   ]
  },
  {
   "cell_type": "code",
   "execution_count": 29,
   "metadata": {},
   "outputs": [
    {
     "data": {
      "image/svg+xml": [
       "<svg height=\"678pt\" viewBox=\"0.00 0.00 600.00 678.00\" width=\"600pt\" xmlns=\"http://www.w3.org/2000/svg\" xmlns:xlink=\"http://www.w3.org/1999/xlink\">\n",
       "<g class=\"graph\" id=\"graph0\" transform=\"scale(1 1) rotate(0) translate(4 674)\">\n",
       "<title>Tree</title>\n",
       "<polygon fill=\"#ffffff\" points=\"-4,4 -4,-674 596,-674 596,4 -4,4\" stroke=\"transparent\"/>\n",
       "<!-- 0 -->\n",
       "<g class=\"node\" id=\"node1\">\n",
       "<title>0</title>\n",
       "<polygon fill=\"#e58139\" fill-opacity=\"0.470588\" points=\"121,-411.5 0,-411.5 0,-328.5 121,-328.5 121,-411.5\" stroke=\"#000000\"/>\n",
       "<text fill=\"#000000\" font-family=\"Times,serif\" font-size=\"14.00\" text-anchor=\"middle\" x=\"60.5\" y=\"-396.3\">residential &lt;= 0.065</text>\n",
       "<text fill=\"#000000\" font-family=\"Times,serif\" font-size=\"14.00\" text-anchor=\"middle\" x=\"60.5\" y=\"-381.3\">entropy = 0.93</text>\n",
       "<text fill=\"#000000\" font-family=\"Times,serif\" font-size=\"14.00\" text-anchor=\"middle\" x=\"60.5\" y=\"-366.3\">samples = 7500</text>\n",
       "<text fill=\"#000000\" font-family=\"Times,serif\" font-size=\"14.00\" text-anchor=\"middle\" x=\"60.5\" y=\"-351.3\">value = [4909, 2591]</text>\n",
       "<text fill=\"#000000\" font-family=\"Times,serif\" font-size=\"14.00\" text-anchor=\"middle\" x=\"60.5\" y=\"-336.3\">class = Not Construction</text>\n",
       "</g>\n",
       "<!-- 1 -->\n",
       "<g class=\"node\" id=\"node2\">\n",
       "<title>1</title>\n",
       "<polygon fill=\"#e58139\" fill-opacity=\"0.611765\" points=\"278,-455.5 157,-455.5 157,-372.5 278,-372.5 278,-455.5\" stroke=\"#000000\"/>\n",
       "<text fill=\"#000000\" font-family=\"Times,serif\" font-size=\"14.00\" text-anchor=\"middle\" x=\"217.5\" y=\"-440.3\">contractor &lt;= 0.048</text>\n",
       "<text fill=\"#000000\" font-family=\"Times,serif\" font-size=\"14.00\" text-anchor=\"middle\" x=\"217.5\" y=\"-425.3\">entropy = 0.854</text>\n",
       "<text fill=\"#000000\" font-family=\"Times,serif\" font-size=\"14.00\" text-anchor=\"middle\" x=\"217.5\" y=\"-410.3\">samples = 6635</text>\n",
       "<text fill=\"#000000\" font-family=\"Times,serif\" font-size=\"14.00\" text-anchor=\"middle\" x=\"217.5\" y=\"-395.3\">value = [4785, 1850]</text>\n",
       "<text fill=\"#000000\" font-family=\"Times,serif\" font-size=\"14.00\" text-anchor=\"middle\" x=\"217.5\" y=\"-380.3\">class = Not Construction</text>\n",
       "</g>\n",
       "<!-- 0&#45;&gt;1 -->\n",
       "<g class=\"edge\" id=\"edge1\">\n",
       "<title>0-&gt;1</title>\n",
       "<path d=\"M121.2003,-387.0115C129.7267,-389.4011 138.5488,-391.8736 147.235,-394.3079\" fill=\"none\" stroke=\"#000000\"/>\n",
       "<polygon fill=\"#000000\" points=\"146.3876,-397.7052 156.9611,-397.0337 148.2766,-390.9649 146.3876,-397.7052\" stroke=\"#000000\"/>\n",
       "<text fill=\"#000000\" font-family=\"Times,serif\" font-size=\"14.00\" text-anchor=\"middle\" x=\"135.1688\" y=\"-405.5851\">True</text>\n",
       "</g>\n",
       "<!-- 8 -->\n",
       "<g class=\"node\" id=\"node9\">\n",
       "<title>8</title>\n",
       "<polygon fill=\"#399de5\" fill-opacity=\"0.831373\" points=\"268.5,-297.5 166.5,-297.5 166.5,-214.5 268.5,-214.5 268.5,-297.5\" stroke=\"#000000\"/>\n",
       "<text fill=\"#000000\" font-family=\"Times,serif\" font-size=\"14.00\" text-anchor=\"middle\" x=\"217.5\" y=\"-282.3\">cleaning &lt;= 0.127</text>\n",
       "<text fill=\"#000000\" font-family=\"Times,serif\" font-size=\"14.00\" text-anchor=\"middle\" x=\"217.5\" y=\"-267.3\">entropy = 0.593</text>\n",
       "<text fill=\"#000000\" font-family=\"Times,serif\" font-size=\"14.00\" text-anchor=\"middle\" x=\"217.5\" y=\"-252.3\">samples = 865</text>\n",
       "<text fill=\"#000000\" font-family=\"Times,serif\" font-size=\"14.00\" text-anchor=\"middle\" x=\"217.5\" y=\"-237.3\">value = [124, 741]</text>\n",
       "<text fill=\"#000000\" font-family=\"Times,serif\" font-size=\"14.00\" text-anchor=\"middle\" x=\"217.5\" y=\"-222.3\">class = Construction</text>\n",
       "</g>\n",
       "<!-- 0&#45;&gt;8 -->\n",
       "<g class=\"edge\" id=\"edge8\">\n",
       "<title>0-&gt;8</title>\n",
       "<path d=\"M118.0695,-328.1979C131.1872,-318.673 145.1461,-308.5372 158.3294,-298.9646\" fill=\"none\" stroke=\"#000000\"/>\n",
       "<polygon fill=\"#000000\" points=\"160.3878,-301.7954 166.4232,-293.0876 156.2749,-296.1311 160.3878,-301.7954\" stroke=\"#000000\"/>\n",
       "<text fill=\"#000000\" font-family=\"Times,serif\" font-size=\"14.00\" text-anchor=\"middle\" x=\"141.7321\" y=\"-285.4698\">False</text>\n",
       "</g>\n",
       "<!-- 2 -->\n",
       "<g class=\"node\" id=\"node3\">\n",
       "<title>2</title>\n",
       "<polygon fill=\"#e58139\" fill-opacity=\"0.686275\" points=\"435,-591.5 314,-591.5 314,-508.5 435,-508.5 435,-591.5\" stroke=\"#000000\"/>\n",
       "<text fill=\"#000000\" font-family=\"Times,serif\" font-size=\"14.00\" text-anchor=\"middle\" x=\"374.5\" y=\"-576.3\">painting &lt;= 0.101</text>\n",
       "<text fill=\"#000000\" font-family=\"Times,serif\" font-size=\"14.00\" text-anchor=\"middle\" x=\"374.5\" y=\"-561.3\">entropy = 0.792</text>\n",
       "<text fill=\"#000000\" font-family=\"Times,serif\" font-size=\"14.00\" text-anchor=\"middle\" x=\"374.5\" y=\"-546.3\">samples = 6163</text>\n",
       "<text fill=\"#000000\" font-family=\"Times,serif\" font-size=\"14.00\" text-anchor=\"middle\" x=\"374.5\" y=\"-531.3\">value = [4695, 1468]</text>\n",
       "<text fill=\"#000000\" font-family=\"Times,serif\" font-size=\"14.00\" text-anchor=\"middle\" x=\"374.5\" y=\"-516.3\">class = Not Construction</text>\n",
       "</g>\n",
       "<!-- 1&#45;&gt;2 -->\n",
       "<g class=\"edge\" id=\"edge2\">\n",
       "<title>1-&gt;2</title>\n",
       "<path d=\"M265.4583,-455.5435C282.2714,-470.1077 301.2991,-486.5903 318.6989,-501.6628\" fill=\"none\" stroke=\"#000000\"/>\n",
       "<polygon fill=\"#000000\" points=\"316.715,-504.5748 326.5651,-508.4768 321.2982,-499.2838 316.715,-504.5748\" stroke=\"#000000\"/>\n",
       "</g>\n",
       "<!-- 5 -->\n",
       "<g class=\"node\" id=\"node6\">\n",
       "<title>5</title>\n",
       "<polygon fill=\"#399de5\" fill-opacity=\"0.764706\" points=\"425.5,-455.5 323.5,-455.5 323.5,-372.5 425.5,-372.5 425.5,-455.5\" stroke=\"#000000\"/>\n",
       "<text fill=\"#000000\" font-family=\"Times,serif\" font-size=\"14.00\" text-anchor=\"middle\" x=\"374.5\" y=\"-440.3\">cleaning &lt;= 0.057</text>\n",
       "<text fill=\"#000000\" font-family=\"Times,serif\" font-size=\"14.00\" text-anchor=\"middle\" x=\"374.5\" y=\"-425.3\">entropy = 0.703</text>\n",
       "<text fill=\"#000000\" font-family=\"Times,serif\" font-size=\"14.00\" text-anchor=\"middle\" x=\"374.5\" y=\"-410.3\">samples = 472</text>\n",
       "<text fill=\"#000000\" font-family=\"Times,serif\" font-size=\"14.00\" text-anchor=\"middle\" x=\"374.5\" y=\"-395.3\">value = [90, 382]</text>\n",
       "<text fill=\"#000000\" font-family=\"Times,serif\" font-size=\"14.00\" text-anchor=\"middle\" x=\"374.5\" y=\"-380.3\">class = Construction</text>\n",
       "</g>\n",
       "<!-- 1&#45;&gt;5 -->\n",
       "<g class=\"edge\" id=\"edge5\">\n",
       "<title>1-&gt;5</title>\n",
       "<path d=\"M278.2003,-414C289.6295,-414 301.5901,-414 313.0422,-414\" fill=\"none\" stroke=\"#000000\"/>\n",
       "<polygon fill=\"#000000\" points=\"313.3868,-417.5001 323.3867,-414 313.3867,-410.5001 313.3868,-417.5001\" stroke=\"#000000\"/>\n",
       "</g>\n",
       "<!-- 3 -->\n",
       "<g class=\"node\" id=\"node4\">\n",
       "<title>3</title>\n",
       "<polygon fill=\"#e58139\" fill-opacity=\"0.713725\" points=\"592,-670 471,-670 471,-602 592,-602 592,-670\" stroke=\"#000000\"/>\n",
       "<text fill=\"#000000\" font-family=\"Times,serif\" font-size=\"14.00\" text-anchor=\"middle\" x=\"531.5\" y=\"-654.8\">entropy = 0.764</text>\n",
       "<text fill=\"#000000\" font-family=\"Times,serif\" font-size=\"14.00\" text-anchor=\"middle\" x=\"531.5\" y=\"-639.8\">samples = 6025</text>\n",
       "<text fill=\"#000000\" font-family=\"Times,serif\" font-size=\"14.00\" text-anchor=\"middle\" x=\"531.5\" y=\"-624.8\">value = [4688, 1337]</text>\n",
       "<text fill=\"#000000\" font-family=\"Times,serif\" font-size=\"14.00\" text-anchor=\"middle\" x=\"531.5\" y=\"-609.8\">class = Not Construction</text>\n",
       "</g>\n",
       "<!-- 2&#45;&gt;3 -->\n",
       "<g class=\"edge\" id=\"edge3\">\n",
       "<title>2-&gt;3</title>\n",
       "<path d=\"M435.2003,-583.2498C444.0017,-588.071 453.1183,-593.0648 462.0751,-597.9711\" fill=\"none\" stroke=\"#000000\"/>\n",
       "<polygon fill=\"#000000\" points=\"460.5092,-601.104 470.9611,-602.8386 463.8722,-594.9647 460.5092,-601.104\" stroke=\"#000000\"/>\n",
       "</g>\n",
       "<!-- 4 -->\n",
       "<g class=\"node\" id=\"node5\">\n",
       "<title>4</title>\n",
       "<polygon fill=\"#399de5\" fill-opacity=\"0.945098\" points=\"582.5,-584 480.5,-584 480.5,-516 582.5,-516 582.5,-584\" stroke=\"#000000\"/>\n",
       "<text fill=\"#000000\" font-family=\"Times,serif\" font-size=\"14.00\" text-anchor=\"middle\" x=\"531.5\" y=\"-568.8\">entropy = 0.289</text>\n",
       "<text fill=\"#000000\" font-family=\"Times,serif\" font-size=\"14.00\" text-anchor=\"middle\" x=\"531.5\" y=\"-553.8\">samples = 138</text>\n",
       "<text fill=\"#000000\" font-family=\"Times,serif\" font-size=\"14.00\" text-anchor=\"middle\" x=\"531.5\" y=\"-538.8\">value = [7, 131]</text>\n",
       "<text fill=\"#000000\" font-family=\"Times,serif\" font-size=\"14.00\" text-anchor=\"middle\" x=\"531.5\" y=\"-523.8\">class = Construction</text>\n",
       "</g>\n",
       "<!-- 2&#45;&gt;4 -->\n",
       "<g class=\"edge\" id=\"edge4\">\n",
       "<title>2-&gt;4</title>\n",
       "<path d=\"M435.2003,-550C446.6295,-550 458.5901,-550 470.0422,-550\" fill=\"none\" stroke=\"#000000\"/>\n",
       "<polygon fill=\"#000000\" points=\"470.3868,-553.5001 480.3867,-550 470.3867,-546.5001 470.3868,-553.5001\" stroke=\"#000000\"/>\n",
       "</g>\n",
       "<!-- 6 -->\n",
       "<g class=\"node\" id=\"node7\">\n",
       "<title>6</title>\n",
       "<polygon fill=\"#399de5\" fill-opacity=\"0.796078\" points=\"582.5,-498 480.5,-498 480.5,-430 582.5,-430 582.5,-498\" stroke=\"#000000\"/>\n",
       "<text fill=\"#000000\" font-family=\"Times,serif\" font-size=\"14.00\" text-anchor=\"middle\" x=\"531.5\" y=\"-482.8\">entropy = 0.658</text>\n",
       "<text fill=\"#000000\" font-family=\"Times,serif\" font-size=\"14.00\" text-anchor=\"middle\" x=\"531.5\" y=\"-467.8\">samples = 459</text>\n",
       "<text fill=\"#000000\" font-family=\"Times,serif\" font-size=\"14.00\" text-anchor=\"middle\" x=\"531.5\" y=\"-452.8\">value = [78, 381]</text>\n",
       "<text fill=\"#000000\" font-family=\"Times,serif\" font-size=\"14.00\" text-anchor=\"middle\" x=\"531.5\" y=\"-437.8\">class = Construction</text>\n",
       "</g>\n",
       "<!-- 5&#45;&gt;6 -->\n",
       "<g class=\"edge\" id=\"edge6\">\n",
       "<title>5-&gt;6</title>\n",
       "<path d=\"M425.9077,-430.3719C440.2129,-434.9277 455.8862,-439.9192 470.6765,-444.6295\" fill=\"none\" stroke=\"#000000\"/>\n",
       "<polygon fill=\"#000000\" points=\"469.6545,-447.9771 480.2451,-447.6768 471.7787,-441.3072 469.6545,-447.9771\" stroke=\"#000000\"/>\n",
       "</g>\n",
       "<!-- 7 -->\n",
       "<g class=\"node\" id=\"node8\">\n",
       "<title>7</title>\n",
       "<polygon fill=\"#e58139\" fill-opacity=\"0.917647\" points=\"592,-412 471,-412 471,-344 592,-344 592,-412\" stroke=\"#000000\"/>\n",
       "<text fill=\"#000000\" font-family=\"Times,serif\" font-size=\"14.00\" text-anchor=\"middle\" x=\"531.5\" y=\"-396.8\">entropy = 0.391</text>\n",
       "<text fill=\"#000000\" font-family=\"Times,serif\" font-size=\"14.00\" text-anchor=\"middle\" x=\"531.5\" y=\"-381.8\">samples = 13</text>\n",
       "<text fill=\"#000000\" font-family=\"Times,serif\" font-size=\"14.00\" text-anchor=\"middle\" x=\"531.5\" y=\"-366.8\">value = [12, 1]</text>\n",
       "<text fill=\"#000000\" font-family=\"Times,serif\" font-size=\"14.00\" text-anchor=\"middle\" x=\"531.5\" y=\"-351.8\">class = Not Construction</text>\n",
       "</g>\n",
       "<!-- 5&#45;&gt;7 -->\n",
       "<g class=\"edge\" id=\"edge7\">\n",
       "<title>5-&gt;7</title>\n",
       "<path d=\"M425.9077,-402.2123C437.1562,-399.633 449.2507,-396.8597 461.0966,-394.1435\" fill=\"none\" stroke=\"#000000\"/>\n",
       "<polygon fill=\"#000000\" points=\"461.9999,-397.5273 470.9646,-391.8807 460.4353,-390.7043 461.9999,-397.5273\" stroke=\"#000000\"/>\n",
       "</g>\n",
       "<!-- 9 -->\n",
       "<g class=\"node\" id=\"node10\">\n",
       "<title>9</title>\n",
       "<polygon fill=\"#399de5\" fill-opacity=\"0.870588\" points=\"425.5,-297.5 323.5,-297.5 323.5,-214.5 425.5,-214.5 425.5,-297.5\" stroke=\"#000000\"/>\n",
       "<text fill=\"#000000\" font-family=\"Times,serif\" font-size=\"14.00\" text-anchor=\"middle\" x=\"374.5\" y=\"-282.3\">office &lt;= 0.056</text>\n",
       "<text fill=\"#000000\" font-family=\"Times,serif\" font-size=\"14.00\" text-anchor=\"middle\" x=\"374.5\" y=\"-267.3\">entropy = 0.512</text>\n",
       "<text fill=\"#000000\" font-family=\"Times,serif\" font-size=\"14.00\" text-anchor=\"middle\" x=\"374.5\" y=\"-252.3\">samples = 834</text>\n",
       "<text fill=\"#000000\" font-family=\"Times,serif\" font-size=\"14.00\" text-anchor=\"middle\" x=\"374.5\" y=\"-237.3\">value = [95, 739]</text>\n",
       "<text fill=\"#000000\" font-family=\"Times,serif\" font-size=\"14.00\" text-anchor=\"middle\" x=\"374.5\" y=\"-222.3\">class = Construction</text>\n",
       "</g>\n",
       "<!-- 8&#45;&gt;9 -->\n",
       "<g class=\"edge\" id=\"edge9\">\n",
       "<title>8-&gt;9</title>\n",
       "<path d=\"M268.9077,-256C282.9404,-256 298.2896,-256 312.8304,-256\" fill=\"none\" stroke=\"#000000\"/>\n",
       "<polygon fill=\"#000000\" points=\"313.2451,-259.5001 323.2451,-256 313.2451,-252.5001 313.2451,-259.5001\" stroke=\"#000000\"/>\n",
       "</g>\n",
       "<!-- 12 -->\n",
       "<g class=\"node\" id=\"node13\">\n",
       "<title>12</title>\n",
       "<polygon fill=\"#e58139\" fill-opacity=\"0.929412\" points=\"435,-161.5 314,-161.5 314,-78.5 435,-78.5 435,-161.5\" stroke=\"#000000\"/>\n",
       "<text fill=\"#000000\" font-family=\"Times,serif\" font-size=\"14.00\" text-anchor=\"middle\" x=\"374.5\" y=\"-146.3\">framing &lt;= 0.097</text>\n",
       "<text fill=\"#000000\" font-family=\"Times,serif\" font-size=\"14.00\" text-anchor=\"middle\" x=\"374.5\" y=\"-131.3\">entropy = 0.345</text>\n",
       "<text fill=\"#000000\" font-family=\"Times,serif\" font-size=\"14.00\" text-anchor=\"middle\" x=\"374.5\" y=\"-116.3\">samples = 31</text>\n",
       "<text fill=\"#000000\" font-family=\"Times,serif\" font-size=\"14.00\" text-anchor=\"middle\" x=\"374.5\" y=\"-101.3\">value = [29, 2]</text>\n",
       "<text fill=\"#000000\" font-family=\"Times,serif\" font-size=\"14.00\" text-anchor=\"middle\" x=\"374.5\" y=\"-86.3\">class = Not Construction</text>\n",
       "</g>\n",
       "<!-- 8&#45;&gt;12 -->\n",
       "<g class=\"edge\" id=\"edge12\">\n",
       "<title>8-&gt;12</title>\n",
       "<path d=\"M265.4583,-214.4565C282.2714,-199.8923 301.2991,-183.4097 318.6989,-168.3372\" fill=\"none\" stroke=\"#000000\"/>\n",
       "<polygon fill=\"#000000\" points=\"321.2982,-170.7162 326.5651,-161.5232 316.715,-165.4252 321.2982,-170.7162\" stroke=\"#000000\"/>\n",
       "</g>\n",
       "<!-- 10 -->\n",
       "<g class=\"node\" id=\"node11\">\n",
       "<title>10</title>\n",
       "<polygon fill=\"#399de5\" fill-opacity=\"0.898039\" points=\"582.5,-326 480.5,-326 480.5,-258 582.5,-258 582.5,-326\" stroke=\"#000000\"/>\n",
       "<text fill=\"#000000\" font-family=\"Times,serif\" font-size=\"14.00\" text-anchor=\"middle\" x=\"531.5\" y=\"-310.8\">entropy = 0.443</text>\n",
       "<text fill=\"#000000\" font-family=\"Times,serif\" font-size=\"14.00\" text-anchor=\"middle\" x=\"531.5\" y=\"-295.8\">samples = 793</text>\n",
       "<text fill=\"#000000\" font-family=\"Times,serif\" font-size=\"14.00\" text-anchor=\"middle\" x=\"531.5\" y=\"-280.8\">value = [73, 720]</text>\n",
       "<text fill=\"#000000\" font-family=\"Times,serif\" font-size=\"14.00\" text-anchor=\"middle\" x=\"531.5\" y=\"-265.8\">class = Construction</text>\n",
       "</g>\n",
       "<!-- 9&#45;&gt;10 -->\n",
       "<g class=\"edge\" id=\"edge10\">\n",
       "<title>9-&gt;10</title>\n",
       "<path d=\"M425.9077,-267.7877C440.0766,-271.0367 455.5878,-274.5934 470.2537,-277.9563\" fill=\"none\" stroke=\"#000000\"/>\n",
       "<polygon fill=\"#000000\" points=\"469.7158,-281.4237 480.2451,-280.2473 471.2803,-274.6008 469.7158,-281.4237\" stroke=\"#000000\"/>\n",
       "</g>\n",
       "<!-- 11 -->\n",
       "<g class=\"node\" id=\"node12\">\n",
       "<title>11</title>\n",
       "<polygon fill=\"#e58139\" fill-opacity=\"0.137255\" points=\"592,-240 471,-240 471,-172 592,-172 592,-240\" stroke=\"#000000\"/>\n",
       "<text fill=\"#000000\" font-family=\"Times,serif\" font-size=\"14.00\" text-anchor=\"middle\" x=\"531.5\" y=\"-224.8\">entropy = 0.996</text>\n",
       "<text fill=\"#000000\" font-family=\"Times,serif\" font-size=\"14.00\" text-anchor=\"middle\" x=\"531.5\" y=\"-209.8\">samples = 41</text>\n",
       "<text fill=\"#000000\" font-family=\"Times,serif\" font-size=\"14.00\" text-anchor=\"middle\" x=\"531.5\" y=\"-194.8\">value = [22, 19]</text>\n",
       "<text fill=\"#000000\" font-family=\"Times,serif\" font-size=\"14.00\" text-anchor=\"middle\" x=\"531.5\" y=\"-179.8\">class = Not Construction</text>\n",
       "</g>\n",
       "<!-- 9&#45;&gt;11 -->\n",
       "<g class=\"edge\" id=\"edge11\">\n",
       "<title>9-&gt;11</title>\n",
       "<path d=\"M425.9077,-239.6281C437.1562,-236.0458 449.2507,-232.1941 461.0966,-228.4215\" fill=\"none\" stroke=\"#000000\"/>\n",
       "<polygon fill=\"#000000\" points=\"462.4983,-231.6483 470.9646,-225.2788 460.3741,-224.9784 462.4983,-231.6483\" stroke=\"#000000\"/>\n",
       "</g>\n",
       "<!-- 13 -->\n",
       "<g class=\"node\" id=\"node14\">\n",
       "<title>13</title>\n",
       "<polygon fill=\"#e58139\" points=\"592,-154 471,-154 471,-86 592,-86 592,-154\" stroke=\"#000000\"/>\n",
       "<text fill=\"#000000\" font-family=\"Times,serif\" font-size=\"14.00\" text-anchor=\"middle\" x=\"531.5\" y=\"-138.8\">entropy = 0.0</text>\n",
       "<text fill=\"#000000\" font-family=\"Times,serif\" font-size=\"14.00\" text-anchor=\"middle\" x=\"531.5\" y=\"-123.8\">samples = 29</text>\n",
       "<text fill=\"#000000\" font-family=\"Times,serif\" font-size=\"14.00\" text-anchor=\"middle\" x=\"531.5\" y=\"-108.8\">value = [29, 0]</text>\n",
       "<text fill=\"#000000\" font-family=\"Times,serif\" font-size=\"14.00\" text-anchor=\"middle\" x=\"531.5\" y=\"-93.8\">class = Not Construction</text>\n",
       "</g>\n",
       "<!-- 12&#45;&gt;13 -->\n",
       "<g class=\"edge\" id=\"edge13\">\n",
       "<title>12-&gt;13</title>\n",
       "<path d=\"M435.2003,-120C443.635,-120 452.3591,-120 460.9547,-120\" fill=\"none\" stroke=\"#000000\"/>\n",
       "<polygon fill=\"#000000\" points=\"460.9612,-123.5001 470.9611,-120 460.9611,-116.5001 460.9612,-123.5001\" stroke=\"#000000\"/>\n",
       "</g>\n",
       "<!-- 14 -->\n",
       "<g class=\"node\" id=\"node15\">\n",
       "<title>14</title>\n",
       "<polygon fill=\"#399de5\" points=\"582.5,-68 480.5,-68 480.5,0 582.5,0 582.5,-68\" stroke=\"#000000\"/>\n",
       "<text fill=\"#000000\" font-family=\"Times,serif\" font-size=\"14.00\" text-anchor=\"middle\" x=\"531.5\" y=\"-52.8\">entropy = 0.0</text>\n",
       "<text fill=\"#000000\" font-family=\"Times,serif\" font-size=\"14.00\" text-anchor=\"middle\" x=\"531.5\" y=\"-37.8\">samples = 2</text>\n",
       "<text fill=\"#000000\" font-family=\"Times,serif\" font-size=\"14.00\" text-anchor=\"middle\" x=\"531.5\" y=\"-22.8\">value = [0, 2]</text>\n",
       "<text fill=\"#000000\" font-family=\"Times,serif\" font-size=\"14.00\" text-anchor=\"middle\" x=\"531.5\" y=\"-7.8\">class = Construction</text>\n",
       "</g>\n",
       "<!-- 12&#45;&gt;14 -->\n",
       "<g class=\"edge\" id=\"edge14\">\n",
       "<title>12-&gt;14</title>\n",
       "<path d=\"M435.2003,-86.7502C447.096,-80.234 459.5673,-73.4026 471.4419,-66.8981\" fill=\"none\" stroke=\"#000000\"/>\n",
       "<polygon fill=\"#000000\" points=\"473.2978,-69.8722 480.3867,-61.9983 469.9348,-63.7329 473.2978,-69.8722\" stroke=\"#000000\"/>\n",
       "</g>\n",
       "</g>\n",
       "</svg>"
      ],
      "text/plain": [
       "<IPython.core.display.SVG object>"
      ]
     },
     "execution_count": 29,
     "metadata": {},
     "output_type": "execute_result"
    }
   ],
   "source": [
    "# Now going to a third split, this is getting a bit large\n",
    "clf = TreeModel(max_depth=3, criterion='entropy').fit(X_train, y_train)\n",
    "graph = Source(export_graphviz(clf, out_file=None, feature_names=features, filled=True, rotate=True,\n",
    "                               class_names=['Not Construction', 'Construction']))\n",
    "SVG(graph.pipe(format='svg'))"
   ]
  },
  {
   "cell_type": "code",
   "execution_count": 30,
   "metadata": {},
   "outputs": [],
   "source": [
    "# No depth restrictions on this tree\n",
    "clf = TreeModel(criterion='entropy').fit(X_train, y_train)"
   ]
  },
  {
   "cell_type": "code",
   "execution_count": 31,
   "metadata": {},
   "outputs": [
    {
     "name": "stdout",
     "output_type": "stream",
     "text": [
      "Training Data Accuracy: 99.21%\n"
     ]
    }
   ],
   "source": [
    "from sklearn.metrics import accuracy_score\n",
    "train_predictions = clf.predict(X_train)\n",
    "acc_train = accuracy_score(y_train, train_predictions)\n",
    "print(f\"Training Data Accuracy: {acc_train*100:0.2f}%\")"
   ]
  },
  {
   "cell_type": "code",
   "execution_count": 32,
   "metadata": {},
   "outputs": [
    {
     "name": "stdout",
     "output_type": "stream",
     "text": [
      "Testing Data Accuracy: 89.24%\n"
     ]
    }
   ],
   "source": [
    "untrained_predictions = clf.predict(X_test)\n",
    "acc_test = accuracy_score(y_test, untrained_predictions)\n",
    "print(f\"Testing Data Accuracy: {acc_test*100:0.2f}%\")"
   ]
  },
  {
   "cell_type": "code",
   "execution_count": 33,
   "metadata": {},
   "outputs": [],
   "source": [
    "# Use a nice plot found online - sklearn documentation has lots of this stuff\n",
    "from sklearn.metrics import confusion_matrix\n",
    "import itertools\n",
    "def plot_confusion_matrix(cm, classes, cmap=plt.cm.Blues):\n",
    "    \"\"\"\n",
    "    Taken From http://scikit-learn.org/stable/auto_examples/model_selection/plot_confusion_matrix.html#sphx-glr-auto-examples-\n",
    "               model-selection-plot-confusion-matrix-py    This function prints and plots the confusion matrix.\n",
    "    Normalization can be applied by setting `normalize=True`.\n",
    "    \"\"\"\n",
    "    plt.imshow(cm, interpolation='nearest', cmap=cmap)\n",
    "    plt.title('Confusion matrix')\n",
    "    plt.colorbar()\n",
    "    tick_marks = np.arange(len(classes))\n",
    "    plt.xticks(tick_marks, classes, rotation=45)\n",
    "    plt.yticks(tick_marks, classes)\n",
    "\n",
    "    thresh = cm.max() / 2.\n",
    "    for i, j in itertools.product(range(cm.shape[0]), range(cm.shape[1])):\n",
    "        plt.text(j, i, format(cm[i, j], 'd'),\n",
    "                 horizontalalignment=\"center\",\n",
    "                 color=\"white\" if cm[i, j] > thresh else \"black\")\n",
    "\n",
    "    plt.tight_layout()\n",
    "    plt.ylabel('True label')\n",
    "    plt.xlabel('Predicted label')"
   ]
  },
  {
   "cell_type": "code",
   "execution_count": 34,
   "metadata": {},
   "outputs": [
    {
     "data": {
      "image/png": "[encoded data removed]",
      "text/plain": [
       "<Figure size 432x432 with 2 Axes>"
      ]
     },
     "metadata": {},
     "output_type": "display_data"
    }
   ],
   "source": [
    "# Plot out resultant confusion matrix\n",
    "cm = confusion_matrix(y_test, untrained_predictions)\n",
    "fig, ax = plt.subplots(figsize=(6, 6))\n",
    "plot_confusion_matrix(cm, ['not construction', 'construction'])"
   ]
  },
  {
   "cell_type": "code",
   "execution_count": 35,
   "metadata": {},
   "outputs": [
    {
     "data": {
      "image/png": "[encoded data removed]",
      "text/plain": [
       "<Figure size 720x432 with 1 Axes>"
      ]
     },
     "metadata": {},
     "output_type": "display_data"
    }
   ],
   "source": [
    "term_importances = list(zip(clf.feature_importances_, vectorizer.vocabulary_))\n",
    "term_importances = sorted(term_importances, reverse=True)\n",
    "plt.subplots(figsize=(10, 6))\n",
    "plt.title(\"Relative Feature importances\")\n",
    "sns.barplot(y=[x[1] for x in term_importances[:15]], \n",
    "            x=[x[0] for x in term_importances[:15]],\n",
    "            orient='h');"
   ]
  },
  {
   "cell_type": "code",
   "execution_count": 36,
   "metadata": {},
   "outputs": [
    {
     "name": "stdout",
     "output_type": "stream",
     "text": [
      "Max depth of tree: 465 branches\n"
     ]
    }
   ],
   "source": [
    "max_depth = clf.tree_.max_depth\n",
    "print(f\"Max depth of tree: {max_depth} branches\")"
   ]
  },
  {
   "cell_type": "code",
   "execution_count": 37,
   "metadata": {},
   "outputs": [],
   "source": [
    "# Make final model, note we only played with one of many tunable hyperparameters\n",
    "final_clf = TreeModel(max_depth=152).fit(X_train, y_train)"
   ]
  },
  {
   "cell_type": "code",
   "execution_count": 39,
   "metadata": {},
   "outputs": [
    {
     "name": "stdout",
     "output_type": "stream",
     "text": [
      "DOCUMENT: 0\n",
      "ORIGINAL DOCUMENT:\n",
      "'I am a dancing clown who performs at residential and commercial parties'\n",
      "\n",
      "NON ZERO VECTOR VALUES (Most to Least Important):\n",
      "dancing:        0.595    parties:        0.575    performs:       0.454    commercial:     0.251    \n",
      "residential:    0.213    \n",
      "TERMS w/ ZERO VALUE: 12,049\n",
      "Sum of terms: 2.09\n",
      "\n",
      "There is a  100.00% chance you are construction\n"
     ]
    }
   ],
   "source": [
    "desc = \"I am a dancing clown who performs at residential and commercial parties\"\n",
    "\n",
    "my_business = pd.DataFrame([desc], columns=[\"desc\"])\n",
    "encoded = vectorizer.transform(my_business['desc'])\n",
    "summarize_doc_transformation(my_business, 0, vectorizer, encoded)\n",
    "\n",
    "# See the Final output\n",
    "not_construction, construction = final_clf.predict_proba(encoded)[0]\n",
    "print(f\"\\nThere is a {construction * 100: 0.2f}% chance you are construction\")"
   ]
  },
  {
   "cell_type": "code",
   "execution_count": 51,
   "metadata": {},
   "outputs": [],
   "source": [
    "# load in the testing data\n",
    "test_data_location = 'data/test_df.pkl'\n",
    "with open(test_data_location, 'rb') as in_pickle:\n",
    "    test_df = pickle.load(in_pickle)"
   ]
  },
  {
   "cell_type": "code",
   "execution_count": 52,
   "metadata": {},
   "outputs": [
    {
     "data": {
      "text/html": [
       "<div>\n",
       "<style scoped>\n",
       "    .dataframe tbody tr th:only-of-type {\n",
       "        vertical-align: middle;\n",
       "    }\n",
       "\n",
       "    .dataframe tbody tr th {\n",
       "        vertical-align: top;\n",
       "    }\n",
       "\n",
       "    .dataframe thead th {\n",
       "        text-align: right;\n",
       "    }\n",
       "</style>\n",
       "<table border=\"1\" class=\"dataframe\">\n",
       "  <thead>\n",
       "    <tr style=\"text-align: right;\">\n",
       "      <th></th>\n",
       "      <th>id</th>\n",
       "      <th>bus_seq_num</th>\n",
       "      <th>target</th>\n",
       "      <th>desc</th>\n",
       "      <th>industry_group_id</th>\n",
       "    </tr>\n",
       "  </thead>\n",
       "  <tbody>\n",
       "    <tr>\n",
       "      <th>0</th>\n",
       "      <td>1000</td>\n",
       "      <td>1.0</td>\n",
       "      <td>0913</td>\n",
       "      <td>livestock operations</td>\n",
       "      <td>01</td>\n",
       "    </tr>\n",
       "    <tr>\n",
       "      <th>1</th>\n",
       "      <td>10000</td>\n",
       "      <td>1.0</td>\n",
       "      <td>9082</td>\n",
       "      <td>restaurant</td>\n",
       "      <td>36</td>\n",
       "    </tr>\n",
       "    <tr>\n",
       "      <th>2</th>\n",
       "      <td>1000004</td>\n",
       "      <td>1.0</td>\n",
       "      <td>5537</td>\n",
       "      <td>northern colorado air inc. and northern colora...</td>\n",
       "      <td>27</td>\n",
       "    </tr>\n",
       "    <tr>\n",
       "      <th>3</th>\n",
       "      <td>1000008</td>\n",
       "      <td>1.0</td>\n",
       "      <td>9083</td>\n",
       "      <td>fast-food chain serving chicken wings and fing...</td>\n",
       "      <td>36</td>\n",
       "    </tr>\n",
       "    <tr>\n",
       "      <th>4</th>\n",
       "      <td>1000009</td>\n",
       "      <td>1.0</td>\n",
       "      <td>9082</td>\n",
       "      <td>quay's restaurant group llc dba darcy's bistro...</td>\n",
       "      <td>36</td>\n",
       "    </tr>\n",
       "  </tbody>\n",
       "</table>\n",
       "</div>"
      ],
      "text/plain": [
       "        id  bus_seq_num target  \\\n",
       "0     1000          1.0   0913   \n",
       "1    10000          1.0   9082   \n",
       "2  1000004          1.0   5537   \n",
       "3  1000008          1.0   9083   \n",
       "4  1000009          1.0   9082   \n",
       "\n",
       "                                                desc industry_group_id  \n",
       "0                               livestock operations                01  \n",
       "1                                         restaurant                36  \n",
       "2  northern colorado air inc. and northern colora...                27  \n",
       "3  fast-food chain serving chicken wings and fing...                36  \n",
       "4  quay's restaurant group llc dba darcy's bistro...                36  "
      ]
     },
     "execution_count": 52,
     "metadata": {},
     "output_type": "execute_result"
    }
   ],
   "source": [
    "test_df.head()"
   ]
  },
  {
   "cell_type": "code",
   "execution_count": 55,
   "metadata": {},
   "outputs": [],
   "source": [
    "final = test_df['id'].to_frame()\n",
    "\n",
    "encoded = vectorizer.transform(test_df['desc'])\n",
    "final['pred_class'] = final_clf.predict(encoded)\n"
   ]
  },
  {
   "cell_type": "code",
   "execution_count": 58,
   "metadata": {},
   "outputs": [],
   "source": [
    "final.to_csv('data/kaggle_submission.csv', index=False)"
   ]
  },
  {
   "cell_type": "code",
   "execution_count": 59,
   "metadata": {},
   "outputs": [
    {
     "name": "stdout",
     "output_type": "stream",
     "text": [
      "id,pred_class\r\n",
      "1000,0\r\n",
      "10000,0\r\n",
      "1000004,0\r\n",
      "1000008,0\r\n",
      "1000009,0\r\n",
      "100001,0\r\n",
      "1000010,0\r\n",
      "1000012,1\r\n",
      "1000018,0\r\n"
     ]
    }
   ],
   "source": [
    "! head -n 10 data/kaggle_submission.csv"
   ]
  },
  {
   "cell_type": "code",
   "execution_count": null,
   "metadata": {},
   "outputs": [],
   "source": []
  }
 ],
 "metadata": {
  "kernelspec": {
   "display_name": "Python 3",
   "language": "python",
   "name": "python3"
  },
  "language_info": {
   "codemirror_mode": {
    "name": "ipython",
    "version": 3
   },
   "file_extension": ".py",
   "mimetype": "text/x-python",
   "name": "python",
   "nbconvert_exporter": "python",
   "pygments_lexer": "ipython3",
   "version": "3.6.5"
  }
 },
 "nbformat": 4,
 "nbformat_minor": 2
}
